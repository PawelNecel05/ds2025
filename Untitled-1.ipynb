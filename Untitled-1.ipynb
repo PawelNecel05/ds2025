{
 "cells": [
  {
   "cell_type": "code",
   "execution_count": null,
   "id": "a0ea48c9",
   "metadata": {},
   "outputs": [
    {
     "name": "stdout",
     "output_type": "stream",
     "text": [
      "Spearman's ρ: -0.508, p-value: 0.0000\n",
      "Kendall's τ: -0.377, p-value: 0.0000\n",
      "engine\n",
      "120-179 HP    9.971575\n",
      "80-119 HP     9.061737\n",
      "<79HP         6.510887\n",
      "> 180 HP      6.459425\n",
      "Name: fuel, dtype: float64\n",
      "species              0\n",
      "island               0\n",
      "bill_length_mm       0\n",
      "bill_depth_mm        0\n",
      "flipper_length_mm    0\n",
      "body_mass_g          0\n",
      "sex                  1\n",
      "year                 0\n",
      "dtype: int64\n"
     ]
    }
   ],
   "source": [
    "import matplotlib.pyplot as plt\n",
    "import numpy as np\n",
    "import pandas as pd\n",
    "import scipy.stats as ss\n",
    "df = pd.read_csv('dataset.csv')\n",
    "spearman_rho, spearman_p = ss.spearmanr(df['engine'], df['fuel']) # engines: spearman or kendall\n",
    "kendall_tau, kendall_p = ss.kendalltau(df['engine'], df['fuel']) #penguins: pearson\n",
    "\n",
    "print(f\"Spearman's ρ: {spearman_rho:.3f}, p-value: {spearman_p:.4f}\")\n",
    "print(f\"Kendall's τ: {kendall_tau:.3f}, p-value: {kendall_p:.4f}\")\n",
    "print(df.groupby(\"engine\")[\"fuel\"].median().sort_index())"
   ]
  },
  {
   "cell_type": "code",
   "execution_count": 16,
   "id": "555226d6",
   "metadata": {},
   "outputs": [
    {
     "name": "stdout",
     "output_type": "stream",
     "text": [
      "Pearson's r: 0.615, p-value: 0.0000\n"
     ]
    }
   ],
   "source": [
    "penguin = pd.read_csv('dataset(2).csv')\n",
    "numeric_cols = penguin.select_dtypes(include=['float64', 'int64']).columns\n",
    "penguin[numeric_cols] = penguin[numeric_cols].fillna(penguin[numeric_cols].median())\n",
    "r, p = ss.pearsonr(penguin['bill_length_mm'], penguin['body_mass_g'])\n",
    "print(f\"Pearson's r: {r:.3f}, p-value: {p:.4f}\")\n"
   ]
  },
  {
   "cell_type": "code",
   "execution_count": 24,
   "id": "c1e4a2d6",
   "metadata": {},
   "outputs": [
    {
     "name": "stdout",
     "output_type": "stream",
     "text": [
      "Chi-square value: 40.90\n",
      "250\n",
      "Contingency Coefficient: 0.37494582078696076\n"
     ]
    }
   ],
   "source": [
    "df = pd.read_excel('survey.xlsx')\n",
    "contingency = pd.crosstab(df['Satisfaction'], df['Localisation'])\n",
    "chi2, p, dof, expected = ss.chi2_contingency(contingency)\n",
    "print(f\"Chi-square value: {chi2:.2f}\")\n",
    "n = np.sum(contingency.values)\n",
    "print(n)\n",
    "# Contingency coefficient\n",
    "C = np.sqrt(chi2 / (chi2 + n))\n",
    "print(\"Contingency Coefficient:\", C)"
   ]
  }
 ],
 "metadata": {
  "kernelspec": {
   "display_name": "Python 3",
   "language": "python",
   "name": "python3"
  },
  "language_info": {
   "codemirror_mode": {
    "name": "ipython",
    "version": 3
   },
   "file_extension": ".py",
   "mimetype": "text/x-python",
   "name": "python",
   "nbconvert_exporter": "python",
   "pygments_lexer": "ipython3",
   "version": "3.13.0"
  }
 },
 "nbformat": 4,
 "nbformat_minor": 5
}
