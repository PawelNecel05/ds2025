{
 "cells": [
  {
   "cell_type": "markdown",
   "id": "6080af38",
   "metadata": {
    "slideshow": {
     "slide_type": "slide"
    }
   },
   "source": [
    "# Data visualization in Python (`pyplot`)"
   ]
  },
  {
   "cell_type": "markdown",
   "id": "11847bd1",
   "metadata": {
    "slideshow": {
     "slide_type": "slide"
    }
   },
   "source": [
    "## Looking ahead: April, Weeks 1-2\n",
    "\n",
    "- In April, weeks 1-2, we'll dive deep into **data visualization**.  \n",
    "  - How do we make visualizations in Python?\n",
    "  - What principles should we keep in mind?"
   ]
  },
  {
   "cell_type": "markdown",
   "id": "118f7491",
   "metadata": {
    "slideshow": {
     "slide_type": "slide"
    }
   },
   "source": [
    "## Goals of this exercise\n",
    "\n",
    "- What *is* data visualization and why is it important?\n",
    "- Introducing `matplotlib`.\n",
    "- Univariate plot types:\n",
    "  - **Histograms** (univariate).\n",
    "  - **Scatterplots** (bivariate).\n",
    "  - **Bar plots** (bivariate)."
   ]
  },
  {
   "cell_type": "markdown",
   "id": "a88245b5",
   "metadata": {
    "slideshow": {
     "slide_type": "slide"
    }
   },
   "source": [
    "## Introduction: data visualization"
   ]
  },
  {
   "cell_type": "markdown",
   "id": "b7f84929",
   "metadata": {
    "slideshow": {
     "slide_type": "slide"
    }
   },
   "source": [
    "### What is data visualization?\n",
    "\n",
    "[Data visualization](https://en.wikipedia.org/wiki/Data_visualization) refers to the process (and result) of representing data graphically.\n",
    "\n",
    "For our purposes today, we'll be talking mostly about common methods of **plotting** data, including:\n",
    "\n",
    "- Histograms  \n",
    "- Scatterplots  \n",
    "- Line plots\n",
    "- Bar plots"
   ]
  },
  {
   "cell_type": "markdown",
   "id": "82767865",
   "metadata": {
    "slideshow": {
     "slide_type": "slide"
    }
   },
   "source": [
    "### Why is data visualization important?\n",
    "\n",
    "- Exploratory data analysis\n",
    "- Communicating insights\n",
    "- Impacting the world"
   ]
  },
  {
   "cell_type": "markdown",
   "id": "01291136",
   "metadata": {
    "slideshow": {
     "slide_type": "slide"
    }
   },
   "source": [
    "### Exploratory Data Analysis: Checking your assumptions \n",
    "\n",
    "[Anscombe's Quartet](https://en.wikipedia.org/wiki/Anscombe%27s_quartet)\n",
    "\n",
    "![title](img/anscombe.png)"
   ]
  },
  {
   "cell_type": "markdown",
   "id": "7685a9c9",
   "metadata": {
    "slideshow": {
     "slide_type": "slide"
    }
   },
   "source": [
    "### Communicating Insights\n",
    "\n",
    "[Reference: Full Stack Economics](https://fullstackeconomics.com/18-charts-that-explain-the-american-economy/)\n",
    "\n",
    "![title](img/work.png)"
   ]
  },
  {
   "cell_type": "markdown",
   "id": "dc0e5af8",
   "metadata": {
    "slideshow": {
     "slide_type": "slide"
    }
   },
   "source": [
    "### Impacting the world\n",
    "\n",
    "[Florence Nightingale](https://en.wikipedia.org/wiki/Florence_Nightingale) (1820-1910) was a social reformer, statistician, and founder of modern nursing.\n",
    "\n",
    "![title](img/polar.jpeg)"
   ]
  },
  {
   "cell_type": "markdown",
   "id": "b3b3a54a",
   "metadata": {
    "slideshow": {
     "slide_type": "slide"
    }
   },
   "source": [
    "### Impacting the world (pt. 2)\n",
    "\n",
    "[John Snow](https://en.wikipedia.org/wiki/John_Snow) (1813-1858) was a physician whose visualization of cholera outbreaks helped identify the source and spreading mechanism (water supply). \n",
    "\n",
    "![title](img/cholera.jpeg)"
   ]
  },
  {
   "cell_type": "markdown",
   "id": "007f08c5",
   "metadata": {
    "slideshow": {
     "slide_type": "slide"
    }
   },
   "source": [
    "## Introducing `matplotlib`"
   ]
  },
  {
   "cell_type": "markdown",
   "id": "9f43d118",
   "metadata": {
    "slideshow": {
     "slide_type": "slide"
    }
   },
   "source": [
    "### Loading packages\n",
    "\n",
    "Here, we load the core packages we'll be using. \n",
    "\n",
    "We also add some lines of code that make sure our visualizations will plot \"inline\" with our code, and that they'll have nice, crisp quality."
   ]
  },
  {
   "cell_type": "code",
   "execution_count": 1,
   "id": "f741468f",
   "metadata": {
    "slideshow": {
     "slide_type": "-"
    }
   },
   "outputs": [],
   "source": [
    "import numpy as np \n",
    "import pandas as pd\n",
    "import matplotlib.pyplot as plt\n",
    "import scipy.stats as ss"
   ]
  },
  {
   "cell_type": "code",
   "execution_count": 2,
   "id": "e953a2d8",
   "metadata": {
    "slideshow": {
     "slide_type": "-"
    }
   },
   "outputs": [],
   "source": [
    "%matplotlib inline \n",
    "%config InlineBackend.figure_format = 'retina'"
   ]
  },
  {
   "cell_type": "markdown",
   "id": "58bac002",
   "metadata": {
    "slideshow": {
     "slide_type": "slide"
    }
   },
   "source": [
    "### What is `matplotlib`?\n",
    "\n",
    "> [`matplotlib`](https://matplotlib.org/) is a **plotting library** for Python.\n",
    "\n",
    "- Many [tutorials](https://matplotlib.org/stable/tutorials/index.html) available online.  \n",
    "- Also many [examples](https://matplotlib.org/stable/gallery/index) of `matplotlib` in use.\n",
    "\n",
    "Note that [`seaborn`](https://seaborn.pydata.org/) (which we'll cover soon) uses `matplotlib` \"under the hood\"."
   ]
  },
  {
   "cell_type": "markdown",
   "id": "97736c27",
   "metadata": {
    "slideshow": {
     "slide_type": "slide"
    }
   },
   "source": [
    "### What is `pyplot`?\n",
    "\n",
    "> [`pyplot`](https://matplotlib.org/stable/tutorials/introductory/pyplot.html) is a collection of functions *within* `matplotlib` that make it really easy to plot data.\n",
    "\n",
    "With `pyplot`, we can easily plot things like:\n",
    "\n",
    "- Histograms (`plt.hist`)\n",
    "- Scatterplots (`plt.scatter`)\n",
    "- Line plots (`plt.plot`) \n",
    "- Bar plots (`plt.bar`)"
   ]
  },
  {
   "cell_type": "markdown",
   "id": "e24bb132",
   "metadata": {
    "slideshow": {
     "slide_type": "slide"
    }
   },
   "source": [
    "### Example dataset\n",
    "\n",
    "Let's load our familiar Pokemon dataset, which can be found in `data/pokemon.csv`."
   ]
  },
  {
   "cell_type": "code",
   "execution_count": 3,
   "id": "0e29033e",
   "metadata": {
    "slideshow": {
     "slide_type": "-"
    }
   },
   "outputs": [
    {
     "data": {
      "text/html": [
       "<div>\n",
       "<style scoped>\n",
       "    .dataframe tbody tr th:only-of-type {\n",
       "        vertical-align: middle;\n",
       "    }\n",
       "\n",
       "    .dataframe tbody tr th {\n",
       "        vertical-align: top;\n",
       "    }\n",
       "\n",
       "    .dataframe thead th {\n",
       "        text-align: right;\n",
       "    }\n",
       "</style>\n",
       "<table border=\"1\" class=\"dataframe\">\n",
       "  <thead>\n",
       "    <tr style=\"text-align: right;\">\n",
       "      <th></th>\n",
       "      <th>#</th>\n",
       "      <th>Name</th>\n",
       "      <th>Type 1</th>\n",
       "      <th>Type 2</th>\n",
       "      <th>Total</th>\n",
       "      <th>HP</th>\n",
       "      <th>Attack</th>\n",
       "      <th>Defense</th>\n",
       "      <th>Sp. Atk</th>\n",
       "      <th>Sp. Def</th>\n",
       "      <th>Speed</th>\n",
       "      <th>Generation</th>\n",
       "      <th>Legendary</th>\n",
       "    </tr>\n",
       "  </thead>\n",
       "  <tbody>\n",
       "    <tr>\n",
       "      <th>0</th>\n",
       "      <td>1</td>\n",
       "      <td>Bulbasaur</td>\n",
       "      <td>Grass</td>\n",
       "      <td>Poison</td>\n",
       "      <td>318</td>\n",
       "      <td>45</td>\n",
       "      <td>49</td>\n",
       "      <td>49</td>\n",
       "      <td>65</td>\n",
       "      <td>65</td>\n",
       "      <td>45</td>\n",
       "      <td>1</td>\n",
       "      <td>False</td>\n",
       "    </tr>\n",
       "    <tr>\n",
       "      <th>1</th>\n",
       "      <td>2</td>\n",
       "      <td>Ivysaur</td>\n",
       "      <td>Grass</td>\n",
       "      <td>Poison</td>\n",
       "      <td>405</td>\n",
       "      <td>60</td>\n",
       "      <td>62</td>\n",
       "      <td>63</td>\n",
       "      <td>80</td>\n",
       "      <td>80</td>\n",
       "      <td>60</td>\n",
       "      <td>1</td>\n",
       "      <td>False</td>\n",
       "    </tr>\n",
       "    <tr>\n",
       "      <th>2</th>\n",
       "      <td>3</td>\n",
       "      <td>Venusaur</td>\n",
       "      <td>Grass</td>\n",
       "      <td>Poison</td>\n",
       "      <td>525</td>\n",
       "      <td>80</td>\n",
       "      <td>82</td>\n",
       "      <td>83</td>\n",
       "      <td>100</td>\n",
       "      <td>100</td>\n",
       "      <td>80</td>\n",
       "      <td>1</td>\n",
       "      <td>False</td>\n",
       "    </tr>\n",
       "  </tbody>\n",
       "</table>\n",
       "</div>"
      ],
      "text/plain": [
       "   #       Name Type 1  Type 2  Total  HP  Attack  Defense  Sp. Atk  Sp. Def  \\\n",
       "0  1  Bulbasaur  Grass  Poison    318  45      49       49       65       65   \n",
       "1  2    Ivysaur  Grass  Poison    405  60      62       63       80       80   \n",
       "2  3   Venusaur  Grass  Poison    525  80      82       83      100      100   \n",
       "\n",
       "   Speed  Generation  Legendary  \n",
       "0     45           1      False  \n",
       "1     60           1      False  \n",
       "2     80           1      False  "
      ]
     },
     "execution_count": 3,
     "metadata": {},
     "output_type": "execute_result"
    }
   ],
   "source": [
    "df_pokemon = pd.read_csv(\"pokemon.csv\")\n",
    "df_pokemon.head(3)"
   ]
  },
  {
   "cell_type": "markdown",
   "id": "0529e3a8",
   "metadata": {
    "slideshow": {
     "slide_type": "slide"
    }
   },
   "source": [
    "## Histograms"
   ]
  },
  {
   "cell_type": "markdown",
   "id": "a2a31374",
   "metadata": {
    "slideshow": {
     "slide_type": "slide"
    }
   },
   "source": [
    "### What are histograms?\n",
    "\n",
    "> A **histogram** is a visualization of a single continuous, quantitative variable (e.g., income or temperature). \n",
    "\n",
    "- Histograms are useful for looking at how a variable **distributes**.  \n",
    "- Can be used to determine whether a distribution is **normal**, **skewed**, or **bimodal**.\n",
    "\n",
    "A histogram is a **univariate** plot, i.e., it displays only a single variable."
   ]
  },
  {
   "cell_type": "markdown",
   "id": "8dd14052",
   "metadata": {
    "slideshow": {
     "slide_type": "slide"
    }
   },
   "source": [
    "### Histograms in `matplotlib`\n",
    "\n",
    "To create a histogram, call `plt.hist` with a **single column** of a `DataFrame` (or a `numpy.ndarray`).\n",
    "\n",
    "**Check-in**: What is this graph telling us?"
   ]
  },
  {
   "cell_type": "code",
   "execution_count": 4,
   "id": "3be14b21",
   "metadata": {
    "slideshow": {
     "slide_type": "-"
    }
   },
   "outputs": [
    {
     "data": {
      "image/png": "[encoded data removed]",
      "text/plain": [
       "<Figure size 640x480 with 1 Axes>"
      ]
     },
     "metadata": {
      "image/png": {
       "height": 413,
       "width": 552
      }
     },
     "output_type": "display_data"
    }
   ],
   "source": [
    "p = plt.hist(df_pokemon['Attack'])"
   ]
  },
  {
   "cell_type": "markdown",
   "id": "d1035069",
   "metadata": {
    "slideshow": {
     "slide_type": "slide"
    }
   },
   "source": [
    "#### Changing the number of bins\n",
    "\n",
    "A histogram puts your continuous data into **bins** (e.g., 1-10, 11-20, etc.).\n",
    "\n",
    "- The height of each bin reflects the number of observations within that interval.  \n",
    "- Increasing or decreasing the number of bins gives you more or less granularity in your distribution."
   ]
  },
  {
   "cell_type": "code",
   "execution_count": 5,
   "id": "745b4f50",
   "metadata": {
    "slideshow": {
     "slide_type": "-"
    }
   },
   "outputs": [
    {
     "data": {
      "image/png": "[encoded data removed]",
      "text/plain": [
       "<Figure size 640x480 with 1 Axes>"
      ]
     },
     "metadata": {
      "image/png": {
       "height": 413,
       "width": 543
      }
     },
     "output_type": "display_data"
    }
   ],
   "source": [
    "### This has lots of bins\n",
    "p = plt.hist(df_pokemon['Attack'], bins = 30)"
   ]
  },
  {
   "cell_type": "code",
   "execution_count": 6,
   "id": "95107a3f",
   "metadata": {
    "slideshow": {
     "slide_type": "slide"
    }
   },
   "outputs": [
    {
     "data": {
      "image/png": "[encoded data removed]",
      "text/plain": [
       "<Figure size 640x480 with 1 Axes>"
      ]
     },
     "metadata": {
      "image/png": {
       "height": 418,
       "width": 552
      }
     },
     "output_type": "display_data"
    }
   ],
   "source": [
    "### This has fewer bins\n",
    "p = plt.hist(df_pokemon['Attack'], bins = 5)"
   ]
  },
  {
   "cell_type": "markdown",
   "id": "49ea168b",
   "metadata": {
    "slideshow": {
     "slide_type": "slide"
    }
   },
   "source": [
    "#### Changing the `alpha` level\n",
    "\n",
    "The `alpha` level changes the **transparency** of your figure."
   ]
  },
  {
   "cell_type": "code",
   "execution_count": 7,
   "id": "177d3559",
   "metadata": {
    "slideshow": {
     "slide_type": "slide"
    }
   },
   "outputs": [
    {
     "data": {
      "image/png": "[encoded data removed]",
      "text/plain": [
       "<Figure size 640x480 with 1 Axes>"
      ]
     },
     "metadata": {
      "image/png": {
       "height": 413,
       "width": 552
      }
     },
     "output_type": "display_data"
    }
   ],
   "source": [
    "### This has fewer bins\n",
    "p = plt.hist(df_pokemon['Attack'], alpha = .6)"
   ]
  },
  {
   "cell_type": "markdown",
   "id": "e3845d6d",
   "metadata": {
    "slideshow": {
     "slide_type": "slide"
    }
   },
   "source": [
    "#### Check-in:\n",
    "\n",
    "How would you make a histogram of the scores for `Defense`?"
   ]
  },
  {
   "cell_type": "code",
   "execution_count": 8,
   "id": "62de2334",
   "metadata": {
    "slideshow": {
     "slide_type": "-"
    }
   },
   "outputs": [
    {
     "data": {
      "image/png": "[encoded data removed]",
      "text/plain": [
       "<Figure size 640x480 with 1 Axes>"
      ]
     },
     "metadata": {
      "image/png": {
       "height": 413,
       "width": 552
      }
     },
     "output_type": "display_data"
    }
   ],
   "source": [
    "plt.hist(df_pokemon['Defense'], bins = 30, alpha = .6)\n",
    "plt.show()"
   ]
  },
  {
   "cell_type": "markdown",
   "id": "570b9684",
   "metadata": {
    "slideshow": {
     "slide_type": "slide"
    }
   },
   "source": [
    "#### Check-in:\n",
    "\n",
    "Could you make a histogram of the scores for `Type 1`?"
   ]
  },
  {
   "cell_type": "code",
   "execution_count": 10,
   "id": "1f561f55",
   "metadata": {
    "slideshow": {
     "slide_type": "-"
    }
   },
   "outputs": [],
   "source": [
    "### Your code here"
   ]
  },
  {
   "cell_type": "markdown",
   "id": "d6a1875e",
   "metadata": {
    "slideshow": {
     "slide_type": "slide"
    }
   },
   "source": [
    "### Learning from histograms\n",
    "\n",
    "Histograms are incredibly useful for learning about the **shape** of our distribution. We can ask questions like:\n",
    "\n",
    "- Is this distribution relatively [normal](https://en.wikipedia.org/wiki/Normal_distribution)?\n",
    "- Is the distribution [skewed](https://en.wikipedia.org/wiki/Skewness)?\n",
    "- Are there [outliers](https://en.wikipedia.org/wiki/Outlier)?"
   ]
  },
  {
   "cell_type": "markdown",
   "id": "9d9d5be2",
   "metadata": {
    "slideshow": {
     "slide_type": "slide"
    }
   },
   "source": [
    "#### Normally distributed data\n",
    "\n",
    "We can use the `numpy.random.normal` function to create a **normal distribution**, then plot it.\n",
    "\n",
    "A normal distribution has the following characteristics:\n",
    "\n",
    "- Classic \"bell\" shape (**symmetric**).  \n",
    "- Mean, median, and mode are all identical."
   ]
  },
  {
   "cell_type": "code",
   "execution_count": 9,
   "id": "06f6c582",
   "metadata": {
    "slideshow": {
     "slide_type": "-"
    }
   },
   "outputs": [
    {
     "data": {
      "image/png": "[encoded data removed]",
      "text/plain": [
       "<Figure size 640x480 with 1 Axes>"
      ]
     },
     "metadata": {
      "image/png": {
       "height": 413,
       "width": 559
      }
     },
     "output_type": "display_data"
    }
   ],
   "source": [
    "norm = np.random.normal(loc = 10, scale = 1, size = 1000)\n",
    "p = plt.hist(norm, alpha = .6)"
   ]
  },
  {
   "cell_type": "markdown",
   "id": "1f3c7b15",
   "metadata": {
    "slideshow": {
     "slide_type": "slide"
    }
   },
   "source": [
    "#### Skewed data\n",
    "\n",
    "> **Skew** means there are values *elongating* one of the \"tails\" of a distribution.\n",
    "\n",
    "- Positive/right skew: the tail is pointing to the right.  \n",
    "- Negative/left skew: the tail is pointing to the left."
   ]
  },
  {
   "cell_type": "code",
   "execution_count": 10,
   "id": "0a69dc94",
   "metadata": {
    "slideshow": {
     "slide_type": "slide"
    }
   },
   "outputs": [
    {
     "data": {
      "text/plain": [
       "Text(0.5, 1.0, 'Left-skewed')"
      ]
     },
     "execution_count": 10,
     "metadata": {},
     "output_type": "execute_result"
    },
    {
     "data": {
      "image/png": "[encoded data removed]",
      "text/plain": [
       "<Figure size 640x480 with 2 Axes>"
      ]
     },
     "metadata": {
      "image/png": {
       "height": 434,
       "width": 552
      }
     },
     "output_type": "display_data"
    }
   ],
   "source": [
    "rskew = ss.skewnorm.rvs(20, size = 1000) # make right-skewed data\n",
    "lskew = ss.skewnorm.rvs(-20, size = 1000) # make left-skewed data\n",
    "fig, axes = plt.subplots(1, 2)\n",
    "axes[0].hist(rskew)\n",
    "axes[0].set_title(\"Right-skewed\")\n",
    "axes[1].hist(lskew)\n",
    "axes[1].set_title(\"Left-skewed\")"
   ]
  },
  {
   "cell_type": "markdown",
   "id": "77210b2c",
   "metadata": {
    "slideshow": {
     "slide_type": "slide"
    }
   },
   "source": [
    "#### Outliers\n",
    "\n",
    "> **Outliers** are data points that differ significantly from other points in a distribution.\n",
    "\n",
    "- Unlike skewed data, outliers are generally **discontinuous** with the rest of the distribution.\n",
    "- Next week, we'll talk about more ways to **identify** outliers; for now, we can rely on histograms."
   ]
  },
  {
   "cell_type": "code",
   "execution_count": 11,
   "id": "ec90040b",
   "metadata": {
    "slideshow": {
     "slide_type": "slide"
    }
   },
   "outputs": [
    {
     "data": {
      "text/plain": [
       "<matplotlib.patches.FancyArrow at 0x1afc30e3e00>"
      ]
     },
     "execution_count": 11,
     "metadata": {},
     "output_type": "execute_result"
    },
    {
     "data": {
      "image/png": "[encoded data removed]",
      "text/plain": [
       "<Figure size 640x480 with 1 Axes>"
      ]
     },
     "metadata": {
      "image/png": {
       "height": 413,
       "width": 552
      }
     },
     "output_type": "display_data"
    }
   ],
   "source": [
    "norm = np.random.normal(loc = 10, scale = 1, size = 1000)\n",
    "upper_outliers = np.array([21, 21, 21, 21]) ## some random outliers\n",
    "data = np.concatenate((norm, upper_outliers))\n",
    "p = plt.hist(data, alpha = .6)\n",
    "plt.arrow(20, 100, dx = 0, dy = -50, width = .3, head_length = 10, facecolor = \"red\")"
   ]
  },
  {
   "cell_type": "markdown",
   "id": "f2c2fb04",
   "metadata": {
    "slideshow": {
     "slide_type": "slide"
    }
   },
   "source": [
    "#### Check-in\n",
    "\n",
    "How would you describe the following distribution?\n",
    "\n",
    "- Normal vs. skewed?  \n",
    "- With or without outliers?"
   ]
  },
  {
   "cell_type": "code",
   "execution_count": 3,
   "id": "ccd18574",
   "metadata": {
    "slideshow": {
     "slide_type": "-"
    }
   },
   "outputs": [],
   "source": [
    "### Your code here"
   ]
  },
  {
   "cell_type": "markdown",
   "id": "84cdfc45",
   "metadata": {
    "slideshow": {
     "slide_type": "slide"
    }
   },
   "source": [
    "#### Check-in\n",
    "\n",
    "How would you describe the following distribution?\n",
    "\n",
    "- Normal vs. skewed?  \n",
    "- With or without outliers?"
   ]
  },
  {
   "cell_type": "code",
   "execution_count": 4,
   "id": "8c37f8b1",
   "metadata": {
    "slideshow": {
     "slide_type": "-"
    }
   },
   "outputs": [],
   "source": [
    "### Your code here"
   ]
  },
  {
   "cell_type": "markdown",
   "id": "0c880fc3",
   "metadata": {
    "slideshow": {
     "slide_type": "slide"
    }
   },
   "source": [
    "#### Check-in\n",
    "\n",
    "In a somewhat **right-skewed distribution** (like below), what's larger––the `mean` or the `median`?"
   ]
  },
  {
   "cell_type": "code",
   "execution_count": 5,
   "id": "ee3534d9",
   "metadata": {
    "slideshow": {
     "slide_type": "-"
    }
   },
   "outputs": [],
   "source": [
    "### Your code here"
   ]
  },
  {
   "cell_type": "markdown",
   "id": "9de27d05",
   "metadata": {
    "slideshow": {
     "slide_type": "slide"
    }
   },
   "source": [
    "### Modifying our plot\n",
    "\n",
    "- A good data visualization should also make it *clear* what's being plotted.\n",
    "   - Clearly labeled `x` and `y` axes, title.\n",
    "- Sometimes, we may also want to add **overlays**. \n",
    "   - E.g., a dashed vertical line representing the `mean`."
   ]
  },
  {
   "cell_type": "markdown",
   "id": "37dcd82f",
   "metadata": {
    "slideshow": {
     "slide_type": "slide"
    }
   },
   "source": [
    "#### Adding axis labels"
   ]
  },
  {
   "cell_type": "code",
   "execution_count": 12,
   "id": "d8591a17",
   "metadata": {
    "slideshow": {
     "slide_type": "-"
    }
   },
   "outputs": [
    {
     "data": {
      "text/plain": [
       "Text(0.5, 1.0, 'Distribution of Attack Scores')"
      ]
     },
     "execution_count": 12,
     "metadata": {},
     "output_type": "execute_result"
    },
    {
     "data": {
      "image/png": "[encoded data removed]",
      "text/plain": [
       "<Figure size 640x480 with 1 Axes>"
      ]
     },
     "metadata": {
      "image/png": {
       "height": 454,
       "width": 571
      }
     },
     "output_type": "display_data"
    }
   ],
   "source": [
    "p = plt.hist(df_pokemon['Attack'], alpha = .6)\n",
    "plt.xlabel(\"Attack\")\n",
    "plt.ylabel(\"Count\")\n",
    "plt.title(\"Distribution of Attack Scores\")"
   ]
  },
  {
   "cell_type": "markdown",
   "id": "3a21bed9",
   "metadata": {
    "slideshow": {
     "slide_type": "slide"
    }
   },
   "source": [
    "#### Adding a vertical line\n",
    "\n",
    "The `plt.axvline` function allows us to draw a vertical line at a particular position, e.g., the `mean` of the `Attack` column."
   ]
  },
  {
   "cell_type": "code",
   "execution_count": 13,
   "id": "646f2eaf",
   "metadata": {
    "slideshow": {
     "slide_type": "-"
    }
   },
   "outputs": [
    {
     "data": {
      "text/plain": [
       "<matplotlib.lines.Line2D at 0x1afc5b360d0>"
      ]
     },
     "execution_count": 13,
     "metadata": {},
     "output_type": "execute_result"
    },
    {
     "data": {
      "image/png": "[encoded data removed]",
      "text/plain": [
       "<Figure size 640x480 with 1 Axes>"
      ]
     },
     "metadata": {
      "image/png": {
       "height": 454,
       "width": 571
      }
     },
     "output_type": "display_data"
    }
   ],
   "source": [
    "p = plt.hist(df_pokemon['Attack'], alpha = .6)\n",
    "plt.xlabel(\"Attack\")\n",
    "plt.ylabel(\"Count\")\n",
    "plt.title(\"Distribution of Attack Scores\")\n",
    "plt.axvline(df_pokemon['Attack'].mean(), linestyle = \"dotted\")"
   ]
  },
  {
   "cell_type": "markdown",
   "id": "2a980bc7",
   "metadata": {},
   "source": [
    "# Faceting for histograms\n"
   ]
  },
  {
   "cell_type": "code",
   "execution_count": null,
   "id": "d4a3ce9f",
   "metadata": {},
   "outputs": [],
   "source": []
  },
  {
   "cell_type": "markdown",
   "id": "d0d302cf",
   "metadata": {
    "slideshow": {
     "slide_type": "slide"
    }
   },
   "source": [
    "## Scatterplots"
   ]
  },
  {
   "cell_type": "markdown",
   "id": "402ee105",
   "metadata": {
    "slideshow": {
     "slide_type": "slide"
    }
   },
   "source": [
    "### What are scatterplots?\n",
    "\n",
    "> A **scatterplot** is a visualization of how two different continuous distributions relate to each other.\n",
    "\n",
    "- Each individual point represents an observation.\n",
    "- Very useful for **exploratory data analysis**.\n",
    "   - Are these variables positively or negatively correlated?\n",
    "   \n",
    "A scatterplot is a **bivariate** plot, i.e., it displays at least two variables."
   ]
  },
  {
   "cell_type": "markdown",
   "id": "3edad76d",
   "metadata": {
    "slideshow": {
     "slide_type": "slide"
    }
   },
   "source": [
    "### Scatterplots with `matplotlib`\n",
    "\n",
    "We can create a scatterplot using `plt.scatter(x, y)`, where `x` and `y` are the two variables we want to visualize."
   ]
  },
  {
   "cell_type": "code",
   "execution_count": 19,
   "id": "08e2a1e8",
   "metadata": {
    "slideshow": {
     "slide_type": "-"
    }
   },
   "outputs": [
    {
     "data": {
      "image/png": "[encoded data removed]",
      "text/plain": [
       "<Figure size 640x480 with 1 Axes>"
      ]
     },
     "metadata": {
      "image/png": {
       "height": 413,
       "width": 543
      }
     },
     "output_type": "display_data"
    }
   ],
   "source": [
    "x = np.arange(1, 10)\n",
    "y = np.arange(11, 20)\n",
    "p = plt.scatter(x, y)"
   ]
  },
  {
   "cell_type": "markdown",
   "id": "c25c794d",
   "metadata": {
    "slideshow": {
     "slide_type": "slide"
    }
   },
   "source": [
    "#### Check-in\n",
    "\n",
    "Are these variables related? If so, how?"
   ]
  },
  {
   "cell_type": "code",
   "execution_count": 7,
   "id": "c95f0d57",
   "metadata": {
    "slideshow": {
     "slide_type": "-"
    }
   },
   "outputs": [
    {
     "data": {
      "image/png": "[encoded data removed]",
      "text/plain": [
       "<Figure size 640x480 with 1 Axes>"
      ]
     },
     "metadata": {},
     "output_type": "display_data"
    }
   ],
   "source": [
    "x = np.random.normal(loc = 10, scale = 1, size = 100)\n",
    "y = x * 2 + np.random.normal(loc = 0, scale = 2, size = 100)\n",
    "plt.scatter(x, y, alpha = .6);"
   ]
  },
  {
   "cell_type": "markdown",
   "id": "ffb2e7e1",
   "metadata": {
    "slideshow": {
     "slide_type": "slide"
    }
   },
   "source": [
    "#### Check-in\n",
    "\n",
    "Are these variables related? If so, how?"
   ]
  },
  {
   "cell_type": "code",
   "execution_count": 8,
   "id": "62879170",
   "metadata": {
    "slideshow": {
     "slide_type": "-"
    }
   },
   "outputs": [
    {
     "data": {
      "image/png": "[encoded data removed]",
      "text/plain": [
       "<Figure size 640x480 with 1 Axes>"
      ]
     },
     "metadata": {},
     "output_type": "display_data"
    }
   ],
   "source": [
    "x = np.random.normal(loc = 10, scale = 1, size = 100)\n",
    "y = -x * 2 + np.random.normal(loc = 0, scale = 2, size = 100)\n",
    "plt.scatter(x, y, alpha = .6);"
   ]
  },
  {
   "cell_type": "markdown",
   "id": "a66a5ff8",
   "metadata": {
    "slideshow": {
     "slide_type": "slide"
    }
   },
   "source": [
    "#### Scatterplots are useful for detecting non-linear relationships"
   ]
  },
  {
   "cell_type": "code",
   "execution_count": 9,
   "id": "93c559c1",
   "metadata": {
    "slideshow": {
     "slide_type": "-"
    }
   },
   "outputs": [
    {
     "data": {
      "image/png": "[encoded data removed]",
      "text/plain": [
       "<Figure size 640x480 with 1 Axes>"
      ]
     },
     "metadata": {},
     "output_type": "display_data"
    }
   ],
   "source": [
    "x = np.random.normal(loc = 10, scale = 1, size = 100)\n",
    "y = np.sin(x)\n",
    "plt.scatter(x, y, alpha = .6);"
   ]
  },
  {
   "cell_type": "markdown",
   "id": "896a0253",
   "metadata": {
    "slideshow": {
     "slide_type": "slide"
    }
   },
   "source": [
    "#### Check-in\n",
    "\n",
    "How would we visualize the relationship between `Attack` and `Speed` in our Pokemon dataset?"
   ]
  },
  {
   "cell_type": "code",
   "execution_count": 20,
   "id": "a6d55d3c",
   "metadata": {
    "slideshow": {
     "slide_type": "-"
    }
   },
   "outputs": [
    {
     "data": {
      "image/png": "[encoded data removed]",
      "text/plain": [
       "<Figure size 640x480 with 1 Axes>"
      ]
     },
     "metadata": {
      "image/png": {
       "height": 413,
       "width": 552
      }
     },
     "output_type": "display_data"
    }
   ],
   "source": [
    "x = df_pokemon['Attack']\n",
    "y = df_pokemon['Speed']\n",
    "p = plt.scatter(x, y)"
   ]
  },
  {
   "cell_type": "markdown",
   "id": "622ba175",
   "metadata": {},
   "source": [
    "## Scatterplots with `pyplot express`"
   ]
  },
  {
   "cell_type": "code",
   "execution_count": 24,
   "id": "c48be160",
   "metadata": {},
   "outputs": [
    {
     "data": {
      "application/vnd.plotly.v1+json": {
       "config": {
        "plotlyServerURL": "https://plot.ly"
       },
       "data": [
        {
         "hovertemplate": "Attack=%{x}<br>Speed=%{y}<br>HP=%{marker.size}<br>Generation=%{marker.color}<extra></extra>",
         "legendgroup": "",
         "marker": {
          "color": {
           "bdata": "AQEBAQEBAQEBAQEBAQEBAQEBAQEBAQEBAQEBAQEBAQEBAQEBAQEBAQEBAQEBAQEBAQEBAQEBAQEBAQEBAQEBAQEBAQEBAQEBAQEBAQEBAQEBAQEBAQEBAQEBAQEBAQEBAQEBAQEBAQEBAQEBAQEBAQEBAQEBAQEBAQEBAQEBAQEBAQEBAQEBAQEBAQEBAQEBAQEBAQEBAQEBAQEBAQEBAQEBAQEBAQICAgICAgICAgICAgICAgICAgICAgICAgICAgICAgICAgICAgICAgICAgICAgICAgICAgICAgICAgICAgICAgICAgICAgICAgICAgICAgICAgICAgICAgICAgICAgICAgICAgICAgICAgIDAwMDAwMDAwMDAwMDAwMDAwMDAwMDAwMDAwMDAwMDAwMDAwMDAwMDAwMDAwMDAwMDAwMDAwMDAwMDAwMDAwMDAwMDAwMDAwMDAwMDAwMDAwMDAwMDAwMDAwMDAwMDAwMDAwMDAwMDAwMDAwMDAwMDAwMDAwMDAwMDAwMDAwMDAwMDAwMDAwMDAwMDAwMDAwMDAwMDAwMDAwMDAwMDAwMDBAQEBAQEBAQEBAQEBAQEBAQEBAQEBAQEBAQEBAQEBAQEBAQEBAQEBAQEBAQEBAQEBAQEBAQEBAQEBAQEBAQEBAQEBAQEBAQEBAQEBAQEBAQEBAQEBAQEBAQEBAQEBAQEBAQEBAQEBAQEBAQEBAQEBAQEBAQEBAQEBAUFBQUFBQUFBQUFBQUFBQUFBQUFBQUFBQUFBQUFBQUFBQUFBQUFBQUFBQUFBQUFBQUFBQUFBQUFBQUFBQUFBQUFBQUFBQUFBQUFBQUFBQUFBQUFBQUFBQUFBQUFBQUFBQUFBQUFBQUFBQUFBQUFBQUFBQUFBQUFBQUFBQUFBQUFBQUFBQUFBQUFBQUFBQUFBQUFBQUFBQUFBQUFBQUFBQUFBQUFBQYGBgYGBgYGBgYGBgYGBgYGBgYGBgYGBgYGBgYGBgYGBgYGBgYGBgYGBgYGBgYGBgYGBgYGBgYGBgYGBgYGBgYGBgYGBgYGBgYGBgYGBgYGBgY=",
           "dtype": "i1"
          },
          "coloraxis": "coloraxis",
          "size": {
           "bdata": "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",
           "dtype": "i2"
          },
          "sizemode": "area",
          "sizeref": 0.6375,
          "symbol": "circle"
         },
         "mode": "markers",
         "name": "",
         "orientation": "v",
         "showlegend": false,
         "type": "scatter",
         "x": {
          "bdata": "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",
          "dtype": "i2"
         },
         "xaxis": "x",
         "y": {
          "bdata": "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",
          "dtype": "i2"
         },
         "yaxis": "y"
        }
       ],
       "layout": {
        "coloraxis": {
         "colorbar": {
          "title": {
           "text": "Generation"
          }
         },
         "colorscale": [
          [
           0,
           "#0d0887"
          ],
          [
           0.1111111111111111,
           "#46039f"
          ],
          [
           0.2222222222222222,
           "#7201a8"
          ],
          [
           0.3333333333333333,
           "#9c179e"
          ],
          [
           0.4444444444444444,
           "#bd3786"
          ],
          [
           0.5555555555555556,
           "#d8576b"
          ],
          [
           0.6666666666666666,
           "#ed7953"
          ],
          [
           0.7777777777777778,
           "#fb9f3a"
          ],
          [
           0.8888888888888888,
           "#fdca26"
          ],
          [
           1,
           "#f0f921"
          ]
         ]
        },
        "legend": {
         "itemsizing": "constant",
         "tracegroupgap": 0
        },
        "margin": {
         "t": 60
        },
        "template": {
         "data": {
          "bar": [
           {
            "error_x": {
             "color": "#2a3f5f"
            },
            "error_y": {
             "color": "#2a3f5f"
            },
            "marker": {
             "line": {
              "color": "#E5ECF6",
              "width": 0.5
             },
             "pattern": {
              "fillmode": "overlay",
              "size": 10,
              "solidity": 0.2
             }
            },
            "type": "bar"
           }
          ],
          "barpolar": [
           {
            "marker": {
             "line": {
              "color": "#E5ECF6",
              "width": 0.5
             },
             "pattern": {
              "fillmode": "overlay",
              "size": 10,
              "solidity": 0.2
             }
            },
            "type": "barpolar"
           }
          ],
          "carpet": [
           {
            "aaxis": {
             "endlinecolor": "#2a3f5f",
             "gridcolor": "white",
             "linecolor": "white",
             "minorgridcolor": "white",
             "startlinecolor": "#2a3f5f"
            },
            "baxis": {
             "endlinecolor": "#2a3f5f",
             "gridcolor": "white",
             "linecolor": "white",
             "minorgridcolor": "white",
             "startlinecolor": "#2a3f5f"
            },
            "type": "carpet"
           }
          ],
          "choropleth": [
           {
            "colorbar": {
             "outlinewidth": 0,
             "ticks": ""
            },
            "type": "choropleth"
           }
          ],
          "contour": [
           {
            "colorbar": {
             "outlinewidth": 0,
             "ticks": ""
            },
            "colorscale": [
             [
              0,
              "#0d0887"
             ],
             [
              0.1111111111111111,
              "#46039f"
             ],
             [
              0.2222222222222222,
              "#7201a8"
             ],
             [
              0.3333333333333333,
              "#9c179e"
             ],
             [
              0.4444444444444444,
              "#bd3786"
             ],
             [
              0.5555555555555556,
              "#d8576b"
             ],
             [
              0.6666666666666666,
              "#ed7953"
             ],
             [
              0.7777777777777778,
              "#fb9f3a"
             ],
             [
              0.8888888888888888,
              "#fdca26"
             ],
             [
              1,
              "#f0f921"
             ]
            ],
            "type": "contour"
           }
          ],
          "contourcarpet": [
           {
            "colorbar": {
             "outlinewidth": 0,
             "ticks": ""
            },
            "type": "contourcarpet"
           }
          ],
          "heatmap": [
           {
            "colorbar": {
             "outlinewidth": 0,
             "ticks": ""
            },
            "colorscale": [
             [
              0,
              "#0d0887"
             ],
             [
              0.1111111111111111,
              "#46039f"
             ],
             [
              0.2222222222222222,
              "#7201a8"
             ],
             [
              0.3333333333333333,
              "#9c179e"
             ],
             [
              0.4444444444444444,
              "#bd3786"
             ],
             [
              0.5555555555555556,
              "#d8576b"
             ],
             [
              0.6666666666666666,
              "#ed7953"
             ],
             [
              0.7777777777777778,
              "#fb9f3a"
             ],
             [
              0.8888888888888888,
              "#fdca26"
             ],
             [
              1,
              "#f0f921"
             ]
            ],
            "type": "heatmap"
           }
          ],
          "histogram": [
           {
            "marker": {
             "pattern": {
              "fillmode": "overlay",
              "size": 10,
              "solidity": 0.2
             }
            },
            "type": "histogram"
           }
          ],
          "histogram2d": [
           {
            "colorbar": {
             "outlinewidth": 0,
             "ticks": ""
            },
            "colorscale": [
             [
              0,
              "#0d0887"
             ],
             [
              0.1111111111111111,
              "#46039f"
             ],
             [
              0.2222222222222222,
              "#7201a8"
             ],
             [
              0.3333333333333333,
              "#9c179e"
             ],
             [
              0.4444444444444444,
              "#bd3786"
             ],
             [
              0.5555555555555556,
              "#d8576b"
             ],
             [
              0.6666666666666666,
              "#ed7953"
             ],
             [
              0.7777777777777778,
              "#fb9f3a"
             ],
             [
              0.8888888888888888,
              "#fdca26"
             ],
             [
              1,
              "#f0f921"
             ]
            ],
            "type": "histogram2d"
           }
          ],
          "histogram2dcontour": [
           {
            "colorbar": {
             "outlinewidth": 0,
             "ticks": ""
            },
            "colorscale": [
             [
              0,
              "#0d0887"
             ],
             [
              0.1111111111111111,
              "#46039f"
             ],
             [
              0.2222222222222222,
              "#7201a8"
             ],
             [
              0.3333333333333333,
              "#9c179e"
             ],
             [
              0.4444444444444444,
              "#bd3786"
             ],
             [
              0.5555555555555556,
              "#d8576b"
             ],
             [
              0.6666666666666666,
              "#ed7953"
             ],
             [
              0.7777777777777778,
              "#fb9f3a"
             ],
             [
              0.8888888888888888,
              "#fdca26"
             ],
             [
              1,
              "#f0f921"
             ]
            ],
            "type": "histogram2dcontour"
           }
          ],
          "mesh3d": [
           {
            "colorbar": {
             "outlinewidth": 0,
             "ticks": ""
            },
            "type": "mesh3d"
           }
          ],
          "parcoords": [
           {
            "line": {
             "colorbar": {
              "outlinewidth": 0,
              "ticks": ""
             }
            },
            "type": "parcoords"
           }
          ],
          "pie": [
           {
            "automargin": true,
            "type": "pie"
           }
          ],
          "scatter": [
           {
            "fillpattern": {
             "fillmode": "overlay",
             "size": 10,
             "solidity": 0.2
            },
            "type": "scatter"
           }
          ],
          "scatter3d": [
           {
            "line": {
             "colorbar": {
              "outlinewidth": 0,
              "ticks": ""
             }
            },
            "marker": {
             "colorbar": {
              "outlinewidth": 0,
              "ticks": ""
             }
            },
            "type": "scatter3d"
           }
          ],
          "scattercarpet": [
           {
            "marker": {
             "colorbar": {
              "outlinewidth": 0,
              "ticks": ""
             }
            },
            "type": "scattercarpet"
           }
          ],
          "scattergeo": [
           {
            "marker": {
             "colorbar": {
              "outlinewidth": 0,
              "ticks": ""
             }
            },
            "type": "scattergeo"
           }
          ],
          "scattergl": [
           {
            "marker": {
             "colorbar": {
              "outlinewidth": 0,
              "ticks": ""
             }
            },
            "type": "scattergl"
           }
          ],
          "scattermap": [
           {
            "marker": {
             "colorbar": {
              "outlinewidth": 0,
              "ticks": ""
             }
            },
            "type": "scattermap"
           }
          ],
          "scattermapbox": [
           {
            "marker": {
             "colorbar": {
              "outlinewidth": 0,
              "ticks": ""
             }
            },
            "type": "scattermapbox"
           }
          ],
          "scatterpolar": [
           {
            "marker": {
             "colorbar": {
              "outlinewidth": 0,
              "ticks": ""
             }
            },
            "type": "scatterpolar"
           }
          ],
          "scatterpolargl": [
           {
            "marker": {
             "colorbar": {
              "outlinewidth": 0,
              "ticks": ""
             }
            },
            "type": "scatterpolargl"
           }
          ],
          "scatterternary": [
           {
            "marker": {
             "colorbar": {
              "outlinewidth": 0,
              "ticks": ""
             }
            },
            "type": "scatterternary"
           }
          ],
          "surface": [
           {
            "colorbar": {
             "outlinewidth": 0,
             "ticks": ""
            },
            "colorscale": [
             [
              0,
              "#0d0887"
             ],
             [
              0.1111111111111111,
              "#46039f"
             ],
             [
              0.2222222222222222,
              "#7201a8"
             ],
             [
              0.3333333333333333,
              "#9c179e"
             ],
             [
              0.4444444444444444,
              "#bd3786"
             ],
             [
              0.5555555555555556,
              "#d8576b"
             ],
             [
              0.6666666666666666,
              "#ed7953"
             ],
             [
              0.7777777777777778,
              "#fb9f3a"
             ],
             [
              0.8888888888888888,
              "#fdca26"
             ],
             [
              1,
              "#f0f921"
             ]
            ],
            "type": "surface"
           }
          ],
          "table": [
           {
            "cells": {
             "fill": {
              "color": "#EBF0F8"
             },
             "line": {
              "color": "white"
             }
            },
            "header": {
             "fill": {
              "color": "#C8D4E3"
             },
             "line": {
              "color": "white"
             }
            },
            "type": "table"
           }
          ]
         },
         "layout": {
          "annotationdefaults": {
           "arrowcolor": "#2a3f5f",
           "arrowhead": 0,
           "arrowwidth": 1
          },
          "autotypenumbers": "strict",
          "coloraxis": {
           "colorbar": {
            "outlinewidth": 0,
            "ticks": ""
           }
          },
          "colorscale": {
           "diverging": [
            [
             0,
             "#8e0152"
            ],
            [
             0.1,
             "#c51b7d"
            ],
            [
             0.2,
             "#de77ae"
            ],
            [
             0.3,
             "#f1b6da"
            ],
            [
             0.4,
             "#fde0ef"
            ],
            [
             0.5,
             "#f7f7f7"
            ],
            [
             0.6,
             "#e6f5d0"
            ],
            [
             0.7,
             "#b8e186"
            ],
            [
             0.8,
             "#7fbc41"
            ],
            [
             0.9,
             "#4d9221"
            ],
            [
             1,
             "#276419"
            ]
           ],
           "sequential": [
            [
             0,
             "#0d0887"
            ],
            [
             0.1111111111111111,
             "#46039f"
            ],
            [
             0.2222222222222222,
             "#7201a8"
            ],
            [
             0.3333333333333333,
             "#9c179e"
            ],
            [
             0.4444444444444444,
             "#bd3786"
            ],
            [
             0.5555555555555556,
             "#d8576b"
            ],
            [
             0.6666666666666666,
             "#ed7953"
            ],
            [
             0.7777777777777778,
             "#fb9f3a"
            ],
            [
             0.8888888888888888,
             "#fdca26"
            ],
            [
             1,
             "#f0f921"
            ]
           ],
           "sequentialminus": [
            [
             0,
             "#0d0887"
            ],
            [
             0.1111111111111111,
             "#46039f"
            ],
            [
             0.2222222222222222,
             "#7201a8"
            ],
            [
             0.3333333333333333,
             "#9c179e"
            ],
            [
             0.4444444444444444,
             "#bd3786"
            ],
            [
             0.5555555555555556,
             "#d8576b"
            ],
            [
             0.6666666666666666,
             "#ed7953"
            ],
            [
             0.7777777777777778,
             "#fb9f3a"
            ],
            [
             0.8888888888888888,
             "#fdca26"
            ],
            [
             1,
             "#f0f921"
            ]
           ]
          },
          "colorway": [
           "#636efa",
           "#EF553B",
           "#00cc96",
           "#ab63fa",
           "#FFA15A",
           "#19d3f3",
           "#FF6692",
           "#B6E880",
           "#FF97FF",
           "#FECB52"
          ],
          "font": {
           "color": "#2a3f5f"
          },
          "geo": {
           "bgcolor": "white",
           "lakecolor": "white",
           "landcolor": "#E5ECF6",
           "showlakes": true,
           "showland": true,
           "subunitcolor": "white"
          },
          "hoverlabel": {
           "align": "left"
          },
          "hovermode": "closest",
          "mapbox": {
           "style": "light"
          },
          "paper_bgcolor": "white",
          "plot_bgcolor": "#E5ECF6",
          "polar": {
           "angularaxis": {
            "gridcolor": "white",
            "linecolor": "white",
            "ticks": ""
           },
           "bgcolor": "#E5ECF6",
           "radialaxis": {
            "gridcolor": "white",
            "linecolor": "white",
            "ticks": ""
           }
          },
          "scene": {
           "xaxis": {
            "backgroundcolor": "#E5ECF6",
            "gridcolor": "white",
            "gridwidth": 2,
            "linecolor": "white",
            "showbackground": true,
            "ticks": "",
            "zerolinecolor": "white"
           },
           "yaxis": {
            "backgroundcolor": "#E5ECF6",
            "gridcolor": "white",
            "gridwidth": 2,
            "linecolor": "white",
            "showbackground": true,
            "ticks": "",
            "zerolinecolor": "white"
           },
           "zaxis": {
            "backgroundcolor": "#E5ECF6",
            "gridcolor": "white",
            "gridwidth": 2,
            "linecolor": "white",
            "showbackground": true,
            "ticks": "",
            "zerolinecolor": "white"
           }
          },
          "shapedefaults": {
           "line": {
            "color": "#2a3f5f"
           }
          },
          "ternary": {
           "aaxis": {
            "gridcolor": "white",
            "linecolor": "white",
            "ticks": ""
           },
           "baxis": {
            "gridcolor": "white",
            "linecolor": "white",
            "ticks": ""
           },
           "bgcolor": "#E5ECF6",
           "caxis": {
            "gridcolor": "white",
            "linecolor": "white",
            "ticks": ""
           }
          },
          "title": {
           "x": 0.05
          },
          "xaxis": {
           "automargin": true,
           "gridcolor": "white",
           "linecolor": "white",
           "ticks": "",
           "title": {
            "standoff": 15
           },
           "zerolinecolor": "white",
           "zerolinewidth": 2
          },
          "yaxis": {
           "automargin": true,
           "gridcolor": "white",
           "linecolor": "white",
           "ticks": "",
           "title": {
            "standoff": 15
           },
           "zerolinecolor": "white",
           "zerolinewidth": 2
          }
         }
        },
        "xaxis": {
         "anchor": "y",
         "domain": [
          0,
          1
         ],
         "title": {
          "text": "Attack"
         }
        },
        "yaxis": {
         "anchor": "x",
         "domain": [
          0,
          1
         ],
         "title": {
          "text": "Speed"
         }
        }
       }
      }
     },
     "metadata": {},
     "output_type": "display_data"
    }
   ],
   "source": [
    "import plotly.express as px\n",
    "bubble = px.scatter(df_pokemon, x = 'Attack', y = 'Speed', size = 'HP', color = 'Generation')\n",
    "bubble.show()"
   ]
  },
  {
   "cell_type": "markdown",
   "id": "c8bcfd99",
   "metadata": {
    "slideshow": {
     "slide_type": "slide"
    }
   },
   "source": [
    "## Barplots"
   ]
  },
  {
   "cell_type": "markdown",
   "id": "57e246b8",
   "metadata": {
    "slideshow": {
     "slide_type": "slide"
    }
   },
   "source": [
    "### What is a barplot?\n",
    "\n",
    "> A **barplot** visualizes the relationship between one *continuous* variable and a *categorical* variable.\n",
    "\n",
    "- The *height* of each bar generally indicates the mean of the continuous variable.\n",
    "- Each bar represents a different *level* of the categorical variable.\n",
    "\n",
    "A barplot is a **bivariate** plot, i.e., it displays at least two variables."
   ]
  },
  {
   "cell_type": "markdown",
   "id": "ac48b7a7",
   "metadata": {
    "slideshow": {
     "slide_type": "slide"
    }
   },
   "source": [
    "### Barplots with `matplotlib`\n",
    "\n",
    "`plt.bar` can be used to create a **barplot** of our data.\n",
    "\n",
    "- E.g., average `Attack` by `Legendary` status.\n",
    "- However, we first need to use `groupby` to calculate the mean `Attack` per level."
   ]
  },
  {
   "cell_type": "markdown",
   "id": "bd9e566d",
   "metadata": {
    "slideshow": {
     "slide_type": "slide"
    }
   },
   "source": [
    "#### Step 1: Using `groupby`"
   ]
  },
  {
   "cell_type": "code",
   "execution_count": 13,
   "id": "2a8a3682",
   "metadata": {
    "slideshow": {
     "slide_type": "-"
    }
   },
   "outputs": [
    {
     "data": {
      "application/vnd.microsoft.datawrangler.viewer.v0+json": {
       "columns": [
        {
         "name": "index",
         "rawType": "int64",
         "type": "integer"
        },
        {
         "name": "Legendary",
         "rawType": "bool",
         "type": "boolean"
        },
        {
         "name": "Attack",
         "rawType": "float64",
         "type": "float"
        }
       ],
       "conversionMethod": "pd.DataFrame",
       "ref": "59762081-67fd-477d-a3f6-9301cac0c560",
       "rows": [
        [
         "0",
         "False",
         "75.66938775510204"
        ],
        [
         "1",
         "True",
         "116.67692307692307"
        ]
       ],
       "shape": {
        "columns": 2,
        "rows": 2
       }
      },
      "text/html": [
       "<div>\n",
       "<style scoped>\n",
       "    .dataframe tbody tr th:only-of-type {\n",
       "        vertical-align: middle;\n",
       "    }\n",
       "\n",
       "    .dataframe tbody tr th {\n",
       "        vertical-align: top;\n",
       "    }\n",
       "\n",
       "    .dataframe thead th {\n",
       "        text-align: right;\n",
       "    }\n",
       "</style>\n",
       "<table border=\"1\" class=\"dataframe\">\n",
       "  <thead>\n",
       "    <tr style=\"text-align: right;\">\n",
       "      <th></th>\n",
       "      <th>Legendary</th>\n",
       "      <th>Attack</th>\n",
       "    </tr>\n",
       "  </thead>\n",
       "  <tbody>\n",
       "    <tr>\n",
       "      <th>0</th>\n",
       "      <td>False</td>\n",
       "      <td>75.669388</td>\n",
       "    </tr>\n",
       "    <tr>\n",
       "      <th>1</th>\n",
       "      <td>True</td>\n",
       "      <td>116.676923</td>\n",
       "    </tr>\n",
       "  </tbody>\n",
       "</table>\n",
       "</div>"
      ],
      "text/plain": [
       "   Legendary      Attack\n",
       "0      False   75.669388\n",
       "1       True  116.676923"
      ]
     },
     "execution_count": 13,
     "metadata": {},
     "output_type": "execute_result"
    }
   ],
   "source": [
    "summary = df_pokemon[['Legendary', 'Attack']].groupby(\"Legendary\").mean().reset_index()\n",
    "summary"
   ]
  },
  {
   "cell_type": "code",
   "execution_count": 14,
   "id": "b00d46f2",
   "metadata": {
    "slideshow": {
     "slide_type": "-"
    }
   },
   "outputs": [
    {
     "data": {
      "application/vnd.microsoft.datawrangler.viewer.v0+json": {
       "columns": [
        {
         "name": "index",
         "rawType": "int64",
         "type": "integer"
        },
        {
         "name": "Legendary",
         "rawType": "object",
         "type": "string"
        },
        {
         "name": "Attack",
         "rawType": "float64",
         "type": "float"
        }
       ],
       "conversionMethod": "pd.DataFrame",
       "ref": "26dcf7db-b6b5-434f-9080-693cb344af2d",
       "rows": [
        [
         "0",
         "False",
         "75.66938775510204"
        ],
        [
         "1",
         "True",
         "116.67692307692307"
        ]
       ],
       "shape": {
        "columns": 2,
        "rows": 2
       }
      },
      "text/html": [
       "<div>\n",
       "<style scoped>\n",
       "    .dataframe tbody tr th:only-of-type {\n",
       "        vertical-align: middle;\n",
       "    }\n",
       "\n",
       "    .dataframe tbody tr th {\n",
       "        vertical-align: top;\n",
       "    }\n",
       "\n",
       "    .dataframe thead th {\n",
       "        text-align: right;\n",
       "    }\n",
       "</style>\n",
       "<table border=\"1\" class=\"dataframe\">\n",
       "  <thead>\n",
       "    <tr style=\"text-align: right;\">\n",
       "      <th></th>\n",
       "      <th>Legendary</th>\n",
       "      <th>Attack</th>\n",
       "    </tr>\n",
       "  </thead>\n",
       "  <tbody>\n",
       "    <tr>\n",
       "      <th>0</th>\n",
       "      <td>False</td>\n",
       "      <td>75.669388</td>\n",
       "    </tr>\n",
       "    <tr>\n",
       "      <th>1</th>\n",
       "      <td>True</td>\n",
       "      <td>116.676923</td>\n",
       "    </tr>\n",
       "  </tbody>\n",
       "</table>\n",
       "</div>"
      ],
      "text/plain": [
       "  Legendary      Attack\n",
       "0     False   75.669388\n",
       "1      True  116.676923"
      ]
     },
     "execution_count": 14,
     "metadata": {},
     "output_type": "execute_result"
    }
   ],
   "source": [
    "### Turn Legendary into a str\n",
    "summary['Legendary'] = summary['Legendary'].apply(lambda x: str(x))\n",
    "summary"
   ]
  },
  {
   "cell_type": "markdown",
   "id": "a7099c27",
   "metadata": {
    "slideshow": {
     "slide_type": "slide"
    }
   },
   "source": [
    "#### Step 2: Pass values into `plt.bar`\n",
    "\n",
    "**Check-in**:\n",
    "\n",
    "- What do we learn from this plot?  \n",
    "- What is this plot missing?"
   ]
  },
  {
   "cell_type": "code",
   "execution_count": 17,
   "id": "3dbf7822",
   "metadata": {
    "slideshow": {
     "slide_type": "-"
    }
   },
   "outputs": [
    {
     "data": {
      "image/png": "[encoded data removed]",
      "text/plain": [
       "<Figure size 640x480 with 1 Axes>"
      ]
     },
     "metadata": {},
     "output_type": "display_data"
    }
   ],
   "source": [
    "plt.bar(x = summary['Legendary'],height = summary['Attack'],alpha = .6);\n",
    "plt.xlabel(\"Legendary status\");\n",
    "plt.ylabel(\"Attack\");"
   ]
  },
  {
   "cell_type": "code",
   "execution_count": 25,
   "id": "88dd3915",
   "metadata": {},
   "outputs": [
    {
     "data": {
      "application/vnd.plotly.v1+json": {
       "config": {
        "plotlyServerURL": "https://plot.ly"
       },
       "data": [
        {
         "hovertemplate": "year=%{x}<br>pop=%{y}<extra></extra>",
         "legendgroup": "",
         "marker": {
          "color": "#636efa",
          "pattern": {
           "shape": ""
          }
         },
         "name": "",
         "orientation": "v",
         "showlegend": false,
         "textposition": "auto",
         "type": "bar",
         "x": {
          "bdata": "oAelB6oHrwe0B7kHvgfDB8gHzQfSB9cH",
          "dtype": "i2"
         },
         "xaxis": "x",
         "y": {
          "bdata": "MJzhAOqNAwF5syEBN689AdQIVAGwGmsB7IyAAcQdlQHuO7MBM27OATzK5gE9fv0B",
          "dtype": "i4"
         },
         "yaxis": "y"
        }
       ],
       "layout": {
        "barmode": "relative",
        "legend": {
         "tracegroupgap": 0
        },
        "margin": {
         "t": 60
        },
        "template": {
         "data": {
          "bar": [
           {
            "error_x": {
             "color": "#2a3f5f"
            },
            "error_y": {
             "color": "#2a3f5f"
            },
            "marker": {
             "line": {
              "color": "#E5ECF6",
              "width": 0.5
             },
             "pattern": {
              "fillmode": "overlay",
              "size": 10,
              "solidity": 0.2
             }
            },
            "type": "bar"
           }
          ],
          "barpolar": [
           {
            "marker": {
             "line": {
              "color": "#E5ECF6",
              "width": 0.5
             },
             "pattern": {
              "fillmode": "overlay",
              "size": 10,
              "solidity": 0.2
             }
            },
            "type": "barpolar"
           }
          ],
          "carpet": [
           {
            "aaxis": {
             "endlinecolor": "#2a3f5f",
             "gridcolor": "white",
             "linecolor": "white",
             "minorgridcolor": "white",
             "startlinecolor": "#2a3f5f"
            },
            "baxis": {
             "endlinecolor": "#2a3f5f",
             "gridcolor": "white",
             "linecolor": "white",
             "minorgridcolor": "white",
             "startlinecolor": "#2a3f5f"
            },
            "type": "carpet"
           }
          ],
          "choropleth": [
           {
            "colorbar": {
             "outlinewidth": 0,
             "ticks": ""
            },
            "type": "choropleth"
           }
          ],
          "contour": [
           {
            "colorbar": {
             "outlinewidth": 0,
             "ticks": ""
            },
            "colorscale": [
             [
              0,
              "#0d0887"
             ],
             [
              0.1111111111111111,
              "#46039f"
             ],
             [
              0.2222222222222222,
              "#7201a8"
             ],
             [
              0.3333333333333333,
              "#9c179e"
             ],
             [
              0.4444444444444444,
              "#bd3786"
             ],
             [
              0.5555555555555556,
              "#d8576b"
             ],
             [
              0.6666666666666666,
              "#ed7953"
             ],
             [
              0.7777777777777778,
              "#fb9f3a"
             ],
             [
              0.8888888888888888,
              "#fdca26"
             ],
             [
              1,
              "#f0f921"
             ]
            ],
            "type": "contour"
           }
          ],
          "contourcarpet": [
           {
            "colorbar": {
             "outlinewidth": 0,
             "ticks": ""
            },
            "type": "contourcarpet"
           }
          ],
          "heatmap": [
           {
            "colorbar": {
             "outlinewidth": 0,
             "ticks": ""
            },
            "colorscale": [
             [
              0,
              "#0d0887"
             ],
             [
              0.1111111111111111,
              "#46039f"
             ],
             [
              0.2222222222222222,
              "#7201a8"
             ],
             [
              0.3333333333333333,
              "#9c179e"
             ],
             [
              0.4444444444444444,
              "#bd3786"
             ],
             [
              0.5555555555555556,
              "#d8576b"
             ],
             [
              0.6666666666666666,
              "#ed7953"
             ],
             [
              0.7777777777777778,
              "#fb9f3a"
             ],
             [
              0.8888888888888888,
              "#fdca26"
             ],
             [
              1,
              "#f0f921"
             ]
            ],
            "type": "heatmap"
           }
          ],
          "histogram": [
           {
            "marker": {
             "pattern": {
              "fillmode": "overlay",
              "size": 10,
              "solidity": 0.2
             }
            },
            "type": "histogram"
           }
          ],
          "histogram2d": [
           {
            "colorbar": {
             "outlinewidth": 0,
             "ticks": ""
            },
            "colorscale": [
             [
              0,
              "#0d0887"
             ],
             [
              0.1111111111111111,
              "#46039f"
             ],
             [
              0.2222222222222222,
              "#7201a8"
             ],
             [
              0.3333333333333333,
              "#9c179e"
             ],
             [
              0.4444444444444444,
              "#bd3786"
             ],
             [
              0.5555555555555556,
              "#d8576b"
             ],
             [
              0.6666666666666666,
              "#ed7953"
             ],
             [
              0.7777777777777778,
              "#fb9f3a"
             ],
             [
              0.8888888888888888,
              "#fdca26"
             ],
             [
              1,
              "#f0f921"
             ]
            ],
            "type": "histogram2d"
           }
          ],
          "histogram2dcontour": [
           {
            "colorbar": {
             "outlinewidth": 0,
             "ticks": ""
            },
            "colorscale": [
             [
              0,
              "#0d0887"
             ],
             [
              0.1111111111111111,
              "#46039f"
             ],
             [
              0.2222222222222222,
              "#7201a8"
             ],
             [
              0.3333333333333333,
              "#9c179e"
             ],
             [
              0.4444444444444444,
              "#bd3786"
             ],
             [
              0.5555555555555556,
              "#d8576b"
             ],
             [
              0.6666666666666666,
              "#ed7953"
             ],
             [
              0.7777777777777778,
              "#fb9f3a"
             ],
             [
              0.8888888888888888,
              "#fdca26"
             ],
             [
              1,
              "#f0f921"
             ]
            ],
            "type": "histogram2dcontour"
           }
          ],
          "mesh3d": [
           {
            "colorbar": {
             "outlinewidth": 0,
             "ticks": ""
            },
            "type": "mesh3d"
           }
          ],
          "parcoords": [
           {
            "line": {
             "colorbar": {
              "outlinewidth": 0,
              "ticks": ""
             }
            },
            "type": "parcoords"
           }
          ],
          "pie": [
           {
            "automargin": true,
            "type": "pie"
           }
          ],
          "scatter": [
           {
            "fillpattern": {
             "fillmode": "overlay",
             "size": 10,
             "solidity": 0.2
            },
            "type": "scatter"
           }
          ],
          "scatter3d": [
           {
            "line": {
             "colorbar": {
              "outlinewidth": 0,
              "ticks": ""
             }
            },
            "marker": {
             "colorbar": {
              "outlinewidth": 0,
              "ticks": ""
             }
            },
            "type": "scatter3d"
           }
          ],
          "scattercarpet": [
           {
            "marker": {
             "colorbar": {
              "outlinewidth": 0,
              "ticks": ""
             }
            },
            "type": "scattercarpet"
           }
          ],
          "scattergeo": [
           {
            "marker": {
             "colorbar": {
              "outlinewidth": 0,
              "ticks": ""
             }
            },
            "type": "scattergeo"
           }
          ],
          "scattergl": [
           {
            "marker": {
             "colorbar": {
              "outlinewidth": 0,
              "ticks": ""
             }
            },
            "type": "scattergl"
           }
          ],
          "scattermap": [
           {
            "marker": {
             "colorbar": {
              "outlinewidth": 0,
              "ticks": ""
             }
            },
            "type": "scattermap"
           }
          ],
          "scattermapbox": [
           {
            "marker": {
             "colorbar": {
              "outlinewidth": 0,
              "ticks": ""
             }
            },
            "type": "scattermapbox"
           }
          ],
          "scatterpolar": [
           {
            "marker": {
             "colorbar": {
              "outlinewidth": 0,
              "ticks": ""
             }
            },
            "type": "scatterpolar"
           }
          ],
          "scatterpolargl": [
           {
            "marker": {
             "colorbar": {
              "outlinewidth": 0,
              "ticks": ""
             }
            },
            "type": "scatterpolargl"
           }
          ],
          "scatterternary": [
           {
            "marker": {
             "colorbar": {
              "outlinewidth": 0,
              "ticks": ""
             }
            },
            "type": "scatterternary"
           }
          ],
          "surface": [
           {
            "colorbar": {
             "outlinewidth": 0,
             "ticks": ""
            },
            "colorscale": [
             [
              0,
              "#0d0887"
             ],
             [
              0.1111111111111111,
              "#46039f"
             ],
             [
              0.2222222222222222,
              "#7201a8"
             ],
             [
              0.3333333333333333,
              "#9c179e"
             ],
             [
              0.4444444444444444,
              "#bd3786"
             ],
             [
              0.5555555555555556,
              "#d8576b"
             ],
             [
              0.6666666666666666,
              "#ed7953"
             ],
             [
              0.7777777777777778,
              "#fb9f3a"
             ],
             [
              0.8888888888888888,
              "#fdca26"
             ],
             [
              1,
              "#f0f921"
             ]
            ],
            "type": "surface"
           }
          ],
          "table": [
           {
            "cells": {
             "fill": {
              "color": "#EBF0F8"
             },
             "line": {
              "color": "white"
             }
            },
            "header": {
             "fill": {
              "color": "#C8D4E3"
             },
             "line": {
              "color": "white"
             }
            },
            "type": "table"
           }
          ]
         },
         "layout": {
          "annotationdefaults": {
           "arrowcolor": "#2a3f5f",
           "arrowhead": 0,
           "arrowwidth": 1
          },
          "autotypenumbers": "strict",
          "coloraxis": {
           "colorbar": {
            "outlinewidth": 0,
            "ticks": ""
           }
          },
          "colorscale": {
           "diverging": [
            [
             0,
             "#8e0152"
            ],
            [
             0.1,
             "#c51b7d"
            ],
            [
             0.2,
             "#de77ae"
            ],
            [
             0.3,
             "#f1b6da"
            ],
            [
             0.4,
             "#fde0ef"
            ],
            [
             0.5,
             "#f7f7f7"
            ],
            [
             0.6,
             "#e6f5d0"
            ],
            [
             0.7,
             "#b8e186"
            ],
            [
             0.8,
             "#7fbc41"
            ],
            [
             0.9,
             "#4d9221"
            ],
            [
             1,
             "#276419"
            ]
           ],
           "sequential": [
            [
             0,
             "#0d0887"
            ],
            [
             0.1111111111111111,
             "#46039f"
            ],
            [
             0.2222222222222222,
             "#7201a8"
            ],
            [
             0.3333333333333333,
             "#9c179e"
            ],
            [
             0.4444444444444444,
             "#bd3786"
            ],
            [
             0.5555555555555556,
             "#d8576b"
            ],
            [
             0.6666666666666666,
             "#ed7953"
            ],
            [
             0.7777777777777778,
             "#fb9f3a"
            ],
            [
             0.8888888888888888,
             "#fdca26"
            ],
            [
             1,
             "#f0f921"
            ]
           ],
           "sequentialminus": [
            [
             0,
             "#0d0887"
            ],
            [
             0.1111111111111111,
             "#46039f"
            ],
            [
             0.2222222222222222,
             "#7201a8"
            ],
            [
             0.3333333333333333,
             "#9c179e"
            ],
            [
             0.4444444444444444,
             "#bd3786"
            ],
            [
             0.5555555555555556,
             "#d8576b"
            ],
            [
             0.6666666666666666,
             "#ed7953"
            ],
            [
             0.7777777777777778,
             "#fb9f3a"
            ],
            [
             0.8888888888888888,
             "#fdca26"
            ],
            [
             1,
             "#f0f921"
            ]
           ]
          },
          "colorway": [
           "#636efa",
           "#EF553B",
           "#00cc96",
           "#ab63fa",
           "#FFA15A",
           "#19d3f3",
           "#FF6692",
           "#B6E880",
           "#FF97FF",
           "#FECB52"
          ],
          "font": {
           "color": "#2a3f5f"
          },
          "geo": {
           "bgcolor": "white",
           "lakecolor": "white",
           "landcolor": "#E5ECF6",
           "showlakes": true,
           "showland": true,
           "subunitcolor": "white"
          },
          "hoverlabel": {
           "align": "left"
          },
          "hovermode": "closest",
          "mapbox": {
           "style": "light"
          },
          "paper_bgcolor": "white",
          "plot_bgcolor": "#E5ECF6",
          "polar": {
           "angularaxis": {
            "gridcolor": "white",
            "linecolor": "white",
            "ticks": ""
           },
           "bgcolor": "#E5ECF6",
           "radialaxis": {
            "gridcolor": "white",
            "linecolor": "white",
            "ticks": ""
           }
          },
          "scene": {
           "xaxis": {
            "backgroundcolor": "#E5ECF6",
            "gridcolor": "white",
            "gridwidth": 2,
            "linecolor": "white",
            "showbackground": true,
            "ticks": "",
            "zerolinecolor": "white"
           },
           "yaxis": {
            "backgroundcolor": "#E5ECF6",
            "gridcolor": "white",
            "gridwidth": 2,
            "linecolor": "white",
            "showbackground": true,
            "ticks": "",
            "zerolinecolor": "white"
           },
           "zaxis": {
            "backgroundcolor": "#E5ECF6",
            "gridcolor": "white",
            "gridwidth": 2,
            "linecolor": "white",
            "showbackground": true,
            "ticks": "",
            "zerolinecolor": "white"
           }
          },
          "shapedefaults": {
           "line": {
            "color": "#2a3f5f"
           }
          },
          "ternary": {
           "aaxis": {
            "gridcolor": "white",
            "linecolor": "white",
            "ticks": ""
           },
           "baxis": {
            "gridcolor": "white",
            "linecolor": "white",
            "ticks": ""
           },
           "bgcolor": "#E5ECF6",
           "caxis": {
            "gridcolor": "white",
            "linecolor": "white",
            "ticks": ""
           }
          },
          "title": {
           "x": 0.05
          },
          "xaxis": {
           "automargin": true,
           "gridcolor": "white",
           "linecolor": "white",
           "ticks": "",
           "title": {
            "standoff": 15
           },
           "zerolinecolor": "white",
           "zerolinewidth": 2
          },
          "yaxis": {
           "automargin": true,
           "gridcolor": "white",
           "linecolor": "white",
           "ticks": "",
           "title": {
            "standoff": 15
           },
           "zerolinecolor": "white",
           "zerolinewidth": 2
          }
         }
        },
        "xaxis": {
         "anchor": "y",
         "domain": [
          0,
          1
         ],
         "title": {
          "text": "year"
         }
        },
        "yaxis": {
         "anchor": "x",
         "domain": [
          0,
          1
         ],
         "title": {
          "text": "pop"
         }
        }
       }
      }
     },
     "metadata": {},
     "output_type": "display_data"
    }
   ],
   "source": [
    "import plotly.express as px\n",
    "data_canada = px.data.gapminder().query(\"country == 'Canada'\")\n",
    "fig = px.bar(data_canada, x='year', y='pop')\n",
    "fig.show()"
   ]
  },
  {
   "cell_type": "code",
   "execution_count": 30,
   "id": "8568f53c",
   "metadata": {},
   "outputs": [
    {
     "data": {
      "application/vnd.plotly.v1+json": {
       "config": {
        "plotlyServerURL": "https://plot.ly"
       },
       "data": [
        {
         "hovertemplate": "Legendary=False<br>Type 1=%{x}<br>count=%{y}<extra></extra>",
         "legendgroup": "",
         "marker": {
          "color": "#636efa",
          "pattern": {
           "shape": ""
          }
         },
         "name": "",
         "orientation": "v",
         "showlegend": false,
         "textposition": "auto",
         "type": "bar",
         "x": [
          "Grass",
          "Grass",
          "Grass",
          "Grass",
          "Fire",
          "Fire",
          "Fire",
          "Fire",
          "Fire",
          "Water",
          "Water",
          "Water",
          "Water",
          "Bug",
          "Bug",
          "Bug",
          "Bug",
          "Bug",
          "Bug",
          "Bug",
          "Normal",
          "Normal",
          "Normal",
          "Normal",
          "Normal",
          "Normal",
          "Normal",
          "Normal",
          "Poison",
          "Poison",
          "Electric",
          "Electric",
          "Ground",
          "Ground",
          "Poison",
          "Poison",
          "Poison",
          "Poison",
          "Poison",
          "Poison",
          "Fairy",
          "Fairy",
          "Fire",
          "Fire",
          "Normal",
          "Normal",
          "Poison",
          "Poison",
          "Grass",
          "Grass",
          "Grass",
          "Bug",
          "Bug",
          "Bug",
          "Bug",
          "Ground",
          "Ground",
          "Normal",
          "Normal",
          "Water",
          "Water",
          "Fighting",
          "Fighting",
          "Fire",
          "Fire",
          "Water",
          "Water",
          "Water",
          "Psychic",
          "Psychic",
          "Psychic",
          "Psychic",
          "Fighting",
          "Fighting",
          "Fighting",
          "Grass",
          "Grass",
          "Grass",
          "Water",
          "Water",
          "Rock",
          "Rock",
          "Rock",
          "Fire",
          "Fire",
          "Water",
          "Water",
          "Water",
          "Electric",
          "Electric",
          "Normal",
          "Normal",
          "Normal",
          "Water",
          "Water",
          "Poison",
          "Poison",
          "Water",
          "Water",
          "Ghost",
          "Ghost",
          "Ghost",
          "Ghost",
          "Rock",
          "Psychic",
          "Psychic",
          "Water",
          "Water",
          "Electric",
          "Electric",
          "Grass",
          "Grass",
          "Ground",
          "Ground",
          "Fighting",
          "Fighting",
          "Normal",
          "Poison",
          "Poison",
          "Ground",
          "Ground",
          "Normal",
          "Grass",
          "Normal",
          "Normal",
          "Water",
          "Water",
          "Water",
          "Water",
          "Water",
          "Water",
          "Psychic",
          "Bug",
          "Ice",
          "Electric",
          "Fire",
          "Bug",
          "Bug",
          "Normal",
          "Water",
          "Water",
          "Water",
          "Water",
          "Normal",
          "Normal",
          "Water",
          "Electric",
          "Fire",
          "Normal",
          "Rock",
          "Rock",
          "Rock",
          "Rock",
          "Rock",
          "Rock",
          "Normal",
          "Dragon",
          "Dragon",
          "Dragon",
          "Psychic",
          "Grass",
          "Grass",
          "Grass",
          "Fire",
          "Fire",
          "Fire",
          "Water",
          "Water",
          "Water",
          "Normal",
          "Normal",
          "Normal",
          "Normal",
          "Bug",
          "Bug",
          "Bug",
          "Bug",
          "Poison",
          "Water",
          "Water",
          "Electric",
          "Fairy",
          "Normal",
          "Fairy",
          "Fairy",
          "Psychic",
          "Psychic",
          "Electric",
          "Electric",
          "Electric",
          "Electric",
          "Grass",
          "Water",
          "Water",
          "Rock",
          "Water",
          "Grass",
          "Grass",
          "Grass",
          "Normal",
          "Grass",
          "Grass",
          "Bug",
          "Water",
          "Water",
          "Psychic",
          "Dark",
          "Dark",
          "Water",
          "Ghost",
          "Psychic",
          "Psychic",
          "Normal",
          "Bug",
          "Bug",
          "Normal",
          "Ground",
          "Steel",
          "Steel",
          "Fairy",
          "Fairy",
          "Water",
          "Bug",
          "Bug",
          "Bug",
          "Bug",
          "Bug",
          "Dark",
          "Normal",
          "Normal",
          "Fire",
          "Fire",
          "Ice",
          "Ice",
          "Water",
          "Water",
          "Water",
          "Ice",
          "Water",
          "Steel",
          "Dark",
          "Dark",
          "Dark",
          "Water",
          "Ground",
          "Ground",
          "Normal",
          "Normal",
          "Normal",
          "Fighting",
          "Fighting",
          "Ice",
          "Electric",
          "Fire",
          "Normal",
          "Normal",
          "Rock",
          "Rock",
          "Rock",
          "Rock",
          "Psychic",
          "Grass",
          "Grass",
          "Grass",
          "Grass",
          "Fire",
          "Fire",
          "Fire",
          "Fire",
          "Water",
          "Water",
          "Water",
          "Water",
          "Dark",
          "Dark",
          "Normal",
          "Normal",
          "Bug",
          "Bug",
          "Bug",
          "Bug",
          "Bug",
          "Water",
          "Water",
          "Water",
          "Grass",
          "Grass",
          "Grass",
          "Normal",
          "Normal",
          "Water",
          "Water",
          "Psychic",
          "Psychic",
          "Psychic",
          "Psychic",
          "Bug",
          "Bug",
          "Grass",
          "Grass",
          "Normal",
          "Normal",
          "Normal",
          "Bug",
          "Bug",
          "Bug",
          "Normal",
          "Normal",
          "Normal",
          "Fighting",
          "Fighting",
          "Normal",
          "Rock",
          "Normal",
          "Normal",
          "Dark",
          "Dark",
          "Steel",
          "Steel",
          "Steel",
          "Steel",
          "Steel",
          "Steel",
          "Fighting",
          "Fighting",
          "Fighting",
          "Electric",
          "Electric",
          "Electric",
          "Electric",
          "Electric",
          "Bug",
          "Bug",
          "Grass",
          "Poison",
          "Poison",
          "Water",
          "Water",
          "Water",
          "Water",
          "Water",
          "Fire",
          "Fire",
          "Fire",
          "Fire",
          "Psychic",
          "Psychic",
          "Normal",
          "Ground",
          "Ground",
          "Ground",
          "Grass",
          "Grass",
          "Normal",
          "Dragon",
          "Dragon",
          "Normal",
          "Poison",
          "Rock",
          "Rock",
          "Water",
          "Water",
          "Water",
          "Water",
          "Ground",
          "Ground",
          "Rock",
          "Rock",
          "Rock",
          "Rock",
          "Water",
          "Water",
          "Normal",
          "Normal",
          "Ghost",
          "Ghost",
          "Ghost",
          "Ghost",
          "Ghost",
          "Grass",
          "Psychic",
          "Dark",
          "Dark",
          "Psychic",
          "Ice",
          "Ice",
          "Ice",
          "Ice",
          "Ice",
          "Ice",
          "Water",
          "Water",
          "Water",
          "Water",
          "Water",
          "Dragon",
          "Dragon",
          "Dragon",
          "Dragon",
          "Steel",
          "Steel",
          "Steel",
          "Steel",
          "Grass",
          "Grass",
          "Grass",
          "Fire",
          "Fire",
          "Fire",
          "Water",
          "Water",
          "Water",
          "Normal",
          "Normal",
          "Normal",
          "Normal",
          "Normal",
          "Bug",
          "Bug",
          "Electric",
          "Electric",
          "Electric",
          "Grass",
          "Grass",
          "Rock",
          "Rock",
          "Rock",
          "Rock",
          "Bug",
          "Bug",
          "Bug",
          "Bug",
          "Bug",
          "Bug",
          "Bug",
          "Electric",
          "Water",
          "Water",
          "Grass",
          "Grass",
          "Water",
          "Water",
          "Normal",
          "Ghost",
          "Ghost",
          "Normal",
          "Normal",
          "Normal",
          "Ghost",
          "Dark",
          "Normal",
          "Normal",
          "Psychic",
          "Poison",
          "Poison",
          "Steel",
          "Steel",
          "Rock",
          "Psychic",
          "Normal",
          "Normal",
          "Ghost",
          "Dragon",
          "Dragon",
          "Dragon",
          "Dragon",
          "Normal",
          "Fighting",
          "Fighting",
          "Fighting",
          "Ground",
          "Ground",
          "Poison",
          "Poison",
          "Poison",
          "Poison",
          "Grass",
          "Water",
          "Water",
          "Water",
          "Grass",
          "Grass",
          "Grass",
          "Dark",
          "Electric",
          "Normal",
          "Ground",
          "Grass",
          "Electric",
          "Fire",
          "Fairy",
          "Bug",
          "Grass",
          "Ice",
          "Ground",
          "Ice",
          "Normal",
          "Psychic",
          "Psychic",
          "Rock",
          "Ghost",
          "Ice",
          "Electric",
          "Electric",
          "Electric",
          "Electric",
          "Electric",
          "Electric",
          "Psychic",
          "Water",
          "Water",
          "Grass",
          "Grass",
          "Grass",
          "Fire",
          "Fire",
          "Fire",
          "Water",
          "Water",
          "Water",
          "Normal",
          "Normal",
          "Normal",
          "Normal",
          "Normal",
          "Dark",
          "Dark",
          "Grass",
          "Grass",
          "Fire",
          "Fire",
          "Water",
          "Water",
          "Psychic",
          "Psychic",
          "Normal",
          "Normal",
          "Normal",
          "Electric",
          "Electric",
          "Rock",
          "Rock",
          "Rock",
          "Psychic",
          "Psychic",
          "Ground",
          "Ground",
          "Normal",
          "Normal",
          "Fighting",
          "Fighting",
          "Fighting",
          "Water",
          "Water",
          "Water",
          "Fighting",
          "Fighting",
          "Bug",
          "Bug",
          "Bug",
          "Bug",
          "Bug",
          "Bug",
          "Grass",
          "Grass",
          "Grass",
          "Grass",
          "Water",
          "Ground",
          "Ground",
          "Ground",
          "Fire",
          "Fire",
          "Fire",
          "Grass",
          "Bug",
          "Bug",
          "Dark",
          "Dark",
          "Psychic",
          "Ghost",
          "Ghost",
          "Water",
          "Water",
          "Rock",
          "Rock",
          "Poison",
          "Poison",
          "Dark",
          "Dark",
          "Normal",
          "Normal",
          "Psychic",
          "Psychic",
          "Psychic",
          "Psychic",
          "Psychic",
          "Psychic",
          "Water",
          "Water",
          "Ice",
          "Ice",
          "Ice",
          "Normal",
          "Normal",
          "Electric",
          "Bug",
          "Bug",
          "Grass",
          "Grass",
          "Water",
          "Water",
          "Water",
          "Bug",
          "Bug",
          "Grass",
          "Grass",
          "Steel",
          "Steel",
          "Steel",
          "Electric",
          "Electric",
          "Electric",
          "Psychic",
          "Psychic",
          "Ghost",
          "Ghost",
          "Ghost",
          "Dragon",
          "Dragon",
          "Dragon",
          "Ice",
          "Ice",
          "Ice",
          "Bug",
          "Bug",
          "Ground",
          "Fighting",
          "Fighting",
          "Dragon",
          "Ground",
          "Ground",
          "Dark",
          "Dark",
          "Normal",
          "Normal",
          "Normal",
          "Dark",
          "Dark",
          "Fire",
          "Bug",
          "Dark",
          "Dark",
          "Dark",
          "Bug",
          "Bug",
          "Water",
          "Water",
          "Normal",
          "Normal",
          "Bug",
          "Grass",
          "Grass",
          "Grass",
          "Fire",
          "Fire",
          "Fire",
          "Water",
          "Water",
          "Water",
          "Normal",
          "Normal",
          "Normal",
          "Fire",
          "Fire",
          "Bug",
          "Bug",
          "Bug",
          "Fire",
          "Fire",
          "Fairy",
          "Fairy",
          "Fairy",
          "Grass",
          "Grass",
          "Fighting",
          "Fighting",
          "Normal",
          "Psychic",
          "Psychic",
          "Psychic",
          "Steel",
          "Steel",
          "Steel",
          "Steel",
          "Fairy",
          "Fairy",
          "Fairy",
          "Fairy",
          "Dark",
          "Dark",
          "Rock",
          "Rock",
          "Poison",
          "Poison",
          "Water",
          "Water",
          "Electric",
          "Electric",
          "Rock",
          "Rock",
          "Rock",
          "Rock",
          "Fairy",
          "Fighting",
          "Electric",
          "Rock",
          "Dragon",
          "Dragon",
          "Dragon",
          "Steel",
          "Ghost",
          "Ghost",
          "Ghost",
          "Ghost",
          "Ghost",
          "Ghost",
          "Ghost",
          "Ghost",
          "Ghost",
          "Ghost",
          "Ice",
          "Ice",
          "Flying",
          "Flying"
         ],
         "xaxis": "x2",
         "y": {
          "bdata": "AQEBAQEBAQEBAQEBAQEBAQEBAQEBAQEBAQEBAQEBAQEBAQEBAQEBAQEBAQEBAQEBAQEBAQEBAQEBAQEBAQEBAQEBAQEBAQEBAQEBAQEBAQEBAQEBAQEBAQEBAQEBAQEBAQEBAQEBAQEBAQEBAQEBAQEBAQEBAQEBAQEBAQEBAQEBAQEBAQEBAQEBAQEBAQEBAQEBAQEBAQEBAQEBAQEBAQEBAQEBAQEBAQEBAQEBAQEBAQEBAQEBAQEBAQEBAQEBAQEBAQEBAQEBAQEBAQEBAQEBAQEBAQEBAQEBAQEBAQEBAQEBAQEBAQEBAQEBAQEBAQEBAQEBAQEBAQEBAQEBAQEBAQEBAQEBAQEBAQEBAQEBAQEBAQEBAQEBAQEBAQEBAQEBAQEBAQEBAQEBAQEBAQEBAQEBAQEBAQEBAQEBAQEBAQEBAQEBAQEBAQEBAQEBAQEBAQEBAQEBAQEBAQEBAQEBAQEBAQEBAQEBAQEBAQEBAQEBAQEBAQEBAQEBAQEBAQEBAQEBAQEBAQEBAQEBAQEBAQEBAQEBAQEBAQEBAQEBAQEBAQEBAQEBAQEBAQEBAQEBAQEBAQEBAQEBAQEBAQEBAQEBAQEBAQEBAQEBAQEBAQEBAQEBAQEBAQEBAQEBAQEBAQEBAQEBAQEBAQEBAQEBAQEBAQEBAQEBAQEBAQEBAQEBAQEBAQEBAQEBAQEBAQEBAQEBAQEBAQEBAQEBAQEBAQEBAQEBAQEBAQEBAQEBAQEBAQEBAQEBAQEBAQEBAQEBAQEBAQEBAQEBAQEBAQEBAQEBAQEBAQEBAQEBAQEBAQEBAQEBAQEBAQEBAQEBAQEBAQEBAQEBAQEBAQEBAQEBAQEBAQEBAQEBAQEBAQEBAQEBAQEBAQEBAQEBAQEBAQEBAQEBAQEBAQEBAQEBAQEBAQEBAQEBAQEBAQEBAQEBAQEBAQEBAQEBAQEBAQEBAQEBAQEBAQEBAQEBAQEB",
          "dtype": "i1"
         },
         "yaxis": "y2"
        },
        {
         "hovertemplate": "Legendary=True<br>Type 1=%{x}<br>count=%{y}<extra></extra>",
         "legendgroup": "",
         "marker": {
          "color": "#636efa",
          "pattern": {
           "shape": ""
          }
         },
         "name": "",
         "orientation": "v",
         "showlegend": false,
         "textposition": "auto",
         "type": "bar",
         "x": [
          "Ice",
          "Electric",
          "Fire",
          "Psychic",
          "Psychic",
          "Psychic",
          "Electric",
          "Fire",
          "Water",
          "Psychic",
          "Fire",
          "Rock",
          "Ice",
          "Steel",
          "Dragon",
          "Dragon",
          "Dragon",
          "Dragon",
          "Water",
          "Water",
          "Ground",
          "Ground",
          "Dragon",
          "Dragon",
          "Steel",
          "Psychic",
          "Psychic",
          "Psychic",
          "Psychic",
          "Psychic",
          "Psychic",
          "Psychic",
          "Steel",
          "Water",
          "Fire",
          "Normal",
          "Ghost",
          "Ghost",
          "Dark",
          "Grass",
          "Grass",
          "Normal",
          "Psychic",
          "Steel",
          "Rock",
          "Grass",
          "Flying",
          "Flying",
          "Electric",
          "Electric",
          "Dragon",
          "Dragon",
          "Ground",
          "Ground",
          "Dragon",
          "Dragon",
          "Dragon",
          "Fairy",
          "Dark",
          "Dragon",
          "Rock",
          "Rock",
          "Psychic",
          "Psychic",
          "Fire"
         ],
         "xaxis": "x",
         "y": {
          "bdata": "AQEBAQEBAQEBAQEBAQEBAQEBAQEBAQEBAQEBAQEBAQEBAQEBAQEBAQEBAQEBAQEBAQEBAQEBAQEBAQEBAQEBAQE=",
          "dtype": "i1"
         },
         "yaxis": "y"
        }
       ],
       "layout": {
        "annotations": [
         {
          "font": {},
          "showarrow": false,
          "text": "Legendary=True",
          "textangle": 90,
          "x": 0.98,
          "xanchor": "left",
          "xref": "paper",
          "y": 0.2425,
          "yanchor": "middle",
          "yref": "paper"
         },
         {
          "font": {},
          "showarrow": false,
          "text": "Legendary=False",
          "textangle": 90,
          "x": 0.98,
          "xanchor": "left",
          "xref": "paper",
          "y": 0.7575000000000001,
          "yanchor": "middle",
          "yref": "paper"
         }
        ],
        "barmode": "relative",
        "legend": {
         "tracegroupgap": 0
        },
        "margin": {
         "t": 60
        },
        "template": {
         "data": {
          "bar": [
           {
            "error_x": {
             "color": "#2a3f5f"
            },
            "error_y": {
             "color": "#2a3f5f"
            },
            "marker": {
             "line": {
              "color": "#E5ECF6",
              "width": 0.5
             },
             "pattern": {
              "fillmode": "overlay",
              "size": 10,
              "solidity": 0.2
             }
            },
            "type": "bar"
           }
          ],
          "barpolar": [
           {
            "marker": {
             "line": {
              "color": "#E5ECF6",
              "width": 0.5
             },
             "pattern": {
              "fillmode": "overlay",
              "size": 10,
              "solidity": 0.2
             }
            },
            "type": "barpolar"
           }
          ],
          "carpet": [
           {
            "aaxis": {
             "endlinecolor": "#2a3f5f",
             "gridcolor": "white",
             "linecolor": "white",
             "minorgridcolor": "white",
             "startlinecolor": "#2a3f5f"
            },
            "baxis": {
             "endlinecolor": "#2a3f5f",
             "gridcolor": "white",
             "linecolor": "white",
             "minorgridcolor": "white",
             "startlinecolor": "#2a3f5f"
            },
            "type": "carpet"
           }
          ],
          "choropleth": [
           {
            "colorbar": {
             "outlinewidth": 0,
             "ticks": ""
            },
            "type": "choropleth"
           }
          ],
          "contour": [
           {
            "colorbar": {
             "outlinewidth": 0,
             "ticks": ""
            },
            "colorscale": [
             [
              0,
              "#0d0887"
             ],
             [
              0.1111111111111111,
              "#46039f"
             ],
             [
              0.2222222222222222,
              "#7201a8"
             ],
             [
              0.3333333333333333,
              "#9c179e"
             ],
             [
              0.4444444444444444,
              "#bd3786"
             ],
             [
              0.5555555555555556,
              "#d8576b"
             ],
             [
              0.6666666666666666,
              "#ed7953"
             ],
             [
              0.7777777777777778,
              "#fb9f3a"
             ],
             [
              0.8888888888888888,
              "#fdca26"
             ],
             [
              1,
              "#f0f921"
             ]
            ],
            "type": "contour"
           }
          ],
          "contourcarpet": [
           {
            "colorbar": {
             "outlinewidth": 0,
             "ticks": ""
            },
            "type": "contourcarpet"
           }
          ],
          "heatmap": [
           {
            "colorbar": {
             "outlinewidth": 0,
             "ticks": ""
            },
            "colorscale": [
             [
              0,
              "#0d0887"
             ],
             [
              0.1111111111111111,
              "#46039f"
             ],
             [
              0.2222222222222222,
              "#7201a8"
             ],
             [
              0.3333333333333333,
              "#9c179e"
             ],
             [
              0.4444444444444444,
              "#bd3786"
             ],
             [
              0.5555555555555556,
              "#d8576b"
             ],
             [
              0.6666666666666666,
              "#ed7953"
             ],
             [
              0.7777777777777778,
              "#fb9f3a"
             ],
             [
              0.8888888888888888,
              "#fdca26"
             ],
             [
              1,
              "#f0f921"
             ]
            ],
            "type": "heatmap"
           }
          ],
          "histogram": [
           {
            "marker": {
             "pattern": {
              "fillmode": "overlay",
              "size": 10,
              "solidity": 0.2
             }
            },
            "type": "histogram"
           }
          ],
          "histogram2d": [
           {
            "colorbar": {
             "outlinewidth": 0,
             "ticks": ""
            },
            "colorscale": [
             [
              0,
              "#0d0887"
             ],
             [
              0.1111111111111111,
              "#46039f"
             ],
             [
              0.2222222222222222,
              "#7201a8"
             ],
             [
              0.3333333333333333,
              "#9c179e"
             ],
             [
              0.4444444444444444,
              "#bd3786"
             ],
             [
              0.5555555555555556,
              "#d8576b"
             ],
             [
              0.6666666666666666,
              "#ed7953"
             ],
             [
              0.7777777777777778,
              "#fb9f3a"
             ],
             [
              0.8888888888888888,
              "#fdca26"
             ],
             [
              1,
              "#f0f921"
             ]
            ],
            "type": "histogram2d"
           }
          ],
          "histogram2dcontour": [
           {
            "colorbar": {
             "outlinewidth": 0,
             "ticks": ""
            },
            "colorscale": [
             [
              0,
              "#0d0887"
             ],
             [
              0.1111111111111111,
              "#46039f"
             ],
             [
              0.2222222222222222,
              "#7201a8"
             ],
             [
              0.3333333333333333,
              "#9c179e"
             ],
             [
              0.4444444444444444,
              "#bd3786"
             ],
             [
              0.5555555555555556,
              "#d8576b"
             ],
             [
              0.6666666666666666,
              "#ed7953"
             ],
             [
              0.7777777777777778,
              "#fb9f3a"
             ],
             [
              0.8888888888888888,
              "#fdca26"
             ],
             [
              1,
              "#f0f921"
             ]
            ],
            "type": "histogram2dcontour"
           }
          ],
          "mesh3d": [
           {
            "colorbar": {
             "outlinewidth": 0,
             "ticks": ""
            },
            "type": "mesh3d"
           }
          ],
          "parcoords": [
           {
            "line": {
             "colorbar": {
              "outlinewidth": 0,
              "ticks": ""
             }
            },
            "type": "parcoords"
           }
          ],
          "pie": [
           {
            "automargin": true,
            "type": "pie"
           }
          ],
          "scatter": [
           {
            "fillpattern": {
             "fillmode": "overlay",
             "size": 10,
             "solidity": 0.2
            },
            "type": "scatter"
           }
          ],
          "scatter3d": [
           {
            "line": {
             "colorbar": {
              "outlinewidth": 0,
              "ticks": ""
             }
            },
            "marker": {
             "colorbar": {
              "outlinewidth": 0,
              "ticks": ""
             }
            },
            "type": "scatter3d"
           }
          ],
          "scattercarpet": [
           {
            "marker": {
             "colorbar": {
              "outlinewidth": 0,
              "ticks": ""
             }
            },
            "type": "scattercarpet"
           }
          ],
          "scattergeo": [
           {
            "marker": {
             "colorbar": {
              "outlinewidth": 0,
              "ticks": ""
             }
            },
            "type": "scattergeo"
           }
          ],
          "scattergl": [
           {
            "marker": {
             "colorbar": {
              "outlinewidth": 0,
              "ticks": ""
             }
            },
            "type": "scattergl"
           }
          ],
          "scattermap": [
           {
            "marker": {
             "colorbar": {
              "outlinewidth": 0,
              "ticks": ""
             }
            },
            "type": "scattermap"
           }
          ],
          "scattermapbox": [
           {
            "marker": {
             "colorbar": {
              "outlinewidth": 0,
              "ticks": ""
             }
            },
            "type": "scattermapbox"
           }
          ],
          "scatterpolar": [
           {
            "marker": {
             "colorbar": {
              "outlinewidth": 0,
              "ticks": ""
             }
            },
            "type": "scatterpolar"
           }
          ],
          "scatterpolargl": [
           {
            "marker": {
             "colorbar": {
              "outlinewidth": 0,
              "ticks": ""
             }
            },
            "type": "scatterpolargl"
           }
          ],
          "scatterternary": [
           {
            "marker": {
             "colorbar": {
              "outlinewidth": 0,
              "ticks": ""
             }
            },
            "type": "scatterternary"
           }
          ],
          "surface": [
           {
            "colorbar": {
             "outlinewidth": 0,
             "ticks": ""
            },
            "colorscale": [
             [
              0,
              "#0d0887"
             ],
             [
              0.1111111111111111,
              "#46039f"
             ],
             [
              0.2222222222222222,
              "#7201a8"
             ],
             [
              0.3333333333333333,
              "#9c179e"
             ],
             [
              0.4444444444444444,
              "#bd3786"
             ],
             [
              0.5555555555555556,
              "#d8576b"
             ],
             [
              0.6666666666666666,
              "#ed7953"
             ],
             [
              0.7777777777777778,
              "#fb9f3a"
             ],
             [
              0.8888888888888888,
              "#fdca26"
             ],
             [
              1,
              "#f0f921"
             ]
            ],
            "type": "surface"
           }
          ],
          "table": [
           {
            "cells": {
             "fill": {
              "color": "#EBF0F8"
             },
             "line": {
              "color": "white"
             }
            },
            "header": {
             "fill": {
              "color": "#C8D4E3"
             },
             "line": {
              "color": "white"
             }
            },
            "type": "table"
           }
          ]
         },
         "layout": {
          "annotationdefaults": {
           "arrowcolor": "#2a3f5f",
           "arrowhead": 0,
           "arrowwidth": 1
          },
          "autotypenumbers": "strict",
          "coloraxis": {
           "colorbar": {
            "outlinewidth": 0,
            "ticks": ""
           }
          },
          "colorscale": {
           "diverging": [
            [
             0,
             "#8e0152"
            ],
            [
             0.1,
             "#c51b7d"
            ],
            [
             0.2,
             "#de77ae"
            ],
            [
             0.3,
             "#f1b6da"
            ],
            [
             0.4,
             "#fde0ef"
            ],
            [
             0.5,
             "#f7f7f7"
            ],
            [
             0.6,
             "#e6f5d0"
            ],
            [
             0.7,
             "#b8e186"
            ],
            [
             0.8,
             "#7fbc41"
            ],
            [
             0.9,
             "#4d9221"
            ],
            [
             1,
             "#276419"
            ]
           ],
           "sequential": [
            [
             0,
             "#0d0887"
            ],
            [
             0.1111111111111111,
             "#46039f"
            ],
            [
             0.2222222222222222,
             "#7201a8"
            ],
            [
             0.3333333333333333,
             "#9c179e"
            ],
            [
             0.4444444444444444,
             "#bd3786"
            ],
            [
             0.5555555555555556,
             "#d8576b"
            ],
            [
             0.6666666666666666,
             "#ed7953"
            ],
            [
             0.7777777777777778,
             "#fb9f3a"
            ],
            [
             0.8888888888888888,
             "#fdca26"
            ],
            [
             1,
             "#f0f921"
            ]
           ],
           "sequentialminus": [
            [
             0,
             "#0d0887"
            ],
            [
             0.1111111111111111,
             "#46039f"
            ],
            [
             0.2222222222222222,
             "#7201a8"
            ],
            [
             0.3333333333333333,
             "#9c179e"
            ],
            [
             0.4444444444444444,
             "#bd3786"
            ],
            [
             0.5555555555555556,
             "#d8576b"
            ],
            [
             0.6666666666666666,
             "#ed7953"
            ],
            [
             0.7777777777777778,
             "#fb9f3a"
            ],
            [
             0.8888888888888888,
             "#fdca26"
            ],
            [
             1,
             "#f0f921"
            ]
           ]
          },
          "colorway": [
           "#636efa",
           "#EF553B",
           "#00cc96",
           "#ab63fa",
           "#FFA15A",
           "#19d3f3",
           "#FF6692",
           "#B6E880",
           "#FF97FF",
           "#FECB52"
          ],
          "font": {
           "color": "#2a3f5f"
          },
          "geo": {
           "bgcolor": "white",
           "lakecolor": "white",
           "landcolor": "#E5ECF6",
           "showlakes": true,
           "showland": true,
           "subunitcolor": "white"
          },
          "hoverlabel": {
           "align": "left"
          },
          "hovermode": "closest",
          "mapbox": {
           "style": "light"
          },
          "paper_bgcolor": "white",
          "plot_bgcolor": "#E5ECF6",
          "polar": {
           "angularaxis": {
            "gridcolor": "white",
            "linecolor": "white",
            "ticks": ""
           },
           "bgcolor": "#E5ECF6",
           "radialaxis": {
            "gridcolor": "white",
            "linecolor": "white",
            "ticks": ""
           }
          },
          "scene": {
           "xaxis": {
            "backgroundcolor": "#E5ECF6",
            "gridcolor": "white",
            "gridwidth": 2,
            "linecolor": "white",
            "showbackground": true,
            "ticks": "",
            "zerolinecolor": "white"
           },
           "yaxis": {
            "backgroundcolor": "#E5ECF6",
            "gridcolor": "white",
            "gridwidth": 2,
            "linecolor": "white",
            "showbackground": true,
            "ticks": "",
            "zerolinecolor": "white"
           },
           "zaxis": {
            "backgroundcolor": "#E5ECF6",
            "gridcolor": "white",
            "gridwidth": 2,
            "linecolor": "white",
            "showbackground": true,
            "ticks": "",
            "zerolinecolor": "white"
           }
          },
          "shapedefaults": {
           "line": {
            "color": "#2a3f5f"
           }
          },
          "ternary": {
           "aaxis": {
            "gridcolor": "white",
            "linecolor": "white",
            "ticks": ""
           },
           "baxis": {
            "gridcolor": "white",
            "linecolor": "white",
            "ticks": ""
           },
           "bgcolor": "#E5ECF6",
           "caxis": {
            "gridcolor": "white",
            "linecolor": "white",
            "ticks": ""
           }
          },
          "title": {
           "x": 0.05
          },
          "xaxis": {
           "automargin": true,
           "gridcolor": "white",
           "linecolor": "white",
           "ticks": "",
           "title": {
            "standoff": 15
           },
           "zerolinecolor": "white",
           "zerolinewidth": 2
          },
          "yaxis": {
           "automargin": true,
           "gridcolor": "white",
           "linecolor": "white",
           "ticks": "",
           "title": {
            "standoff": 15
           },
           "zerolinecolor": "white",
           "zerolinewidth": 2
          }
         }
        },
        "xaxis": {
         "anchor": "y",
         "domain": [
          0,
          0.98
         ],
         "title": {
          "text": "Type 1"
         }
        },
        "xaxis2": {
         "anchor": "y2",
         "domain": [
          0,
          0.98
         ],
         "matches": "x",
         "showticklabels": false
        },
        "yaxis": {
         "anchor": "x",
         "domain": [
          0,
          0.485
         ],
         "title": {
          "text": "count"
         }
        },
        "yaxis2": {
         "anchor": "x2",
         "domain": [
          0.515,
          1
         ],
         "matches": "y",
         "title": {
          "text": "count"
         }
        }
       }
      }
     },
     "metadata": {},
     "output_type": "display_data"
    }
   ],
   "source": [
    "fig=px.bar(df_pokemon, x='Type 1', facet_row='Legendary')\n",
    "fig.show()"
   ]
  },
  {
   "cell_type": "markdown",
   "id": "5240050f",
   "metadata": {
    "slideshow": {
     "slide_type": "slide"
    }
   },
   "source": [
    "## Conclusion\n",
    "\n",
    "This concludes our first introduction to **data visualization**:\n",
    "\n",
    "- Working with `matplotlib.pyplot`.  \n",
    "- Creating basic plots: histograms, scatterplots, and barplots.\n",
    "\n",
    "Next time, we'll move onto discussing `seaborn`, another very useful package for data visualization."
   ]
  }
 ],
 "metadata": {
  "celltoolbar": "Slideshow",
  "kernelspec": {
   "display_name": "Python 3",
   "language": "python",
   "name": "python3"
  },
  "language_info": {
   "codemirror_mode": {
    "name": "ipython",
    "version": 3
   },
   "file_extension": ".py",
   "mimetype": "text/x-python",
   "name": "python",
   "nbconvert_exporter": "python",
   "pygments_lexer": "ipython3",
   "version": "3.13.0"
  }
 },
 "nbformat": 4,
 "nbformat_minor": 5
}
