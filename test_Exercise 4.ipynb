import pandas as pd
import numpy as np
import seaborn as sns
import missingno as msno
from scipy.stats import zscore

# Import necessary libraries
import matplotlib.pyplot as plt

# Load the carseats dataset
carseats = pd.read_csv("https://raw.githubusercontent.com/selva86/datasets/master/Carseats.csv")

# 1. Check for Missing Values
print("Missing Values Count:")
print(carseats.isnull().sum())

# Visualize missing data pattern
msno.matrix(carseats)
plt.show()

# 2. Detect Outliers
# Boxplot for numerical columns
numerical_cols = carseats.select_dtypes(include=[np.number]).columns
for col in numerical_cols:
    plt.figure(figsize=(8, 4))
    sns.boxplot(x=carseats[col])
    plt.title(f"Boxplot for {col}")
    plt.show()

# Z-score method to identify outliers
z_scores = carseats[numerical_cols].apply(zscore)
outliers = (np.abs(z_scores) > 3).sum()
print("Outliers Count (Z-score > 3):")
print(outliers)

# 3. Identify Dirty Data
# Check for invalid values in categorical columns
categorical_cols = carseats.select_dtypes(include=['object']).columns
for col in categorical_cols:
    print(f"Unique values in {col}: {carseats[col].unique()}")

# Check for negative values in numerical columns
for col in numerical_cols:
    if (carseats[col] < 0).any():
        print(f"Column {col} contains negative values.")